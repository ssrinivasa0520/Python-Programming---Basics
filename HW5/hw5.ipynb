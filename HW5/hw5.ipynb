{
 "cells": [
  {
   "cell_type": "markdown",
   "metadata": {},
   "source": [
    "# HW5, CS103 Spring 2022\n",
    "# name: SHREYAS SRINIVASA\n",
    "# blazerid: SSRINIVA"
   ]
  },
  {
   "cell_type": "code",
   "execution_count": 1,
   "metadata": {},
   "outputs": [],
   "source": [
    "def myName():\n",
    "    return \"Shreyas Srinivasa\"\n",
    "def myBlazerID():\n",
    "    return \"SSRINIVA\""
   ]
  },
  {
   "cell_type": "code",
   "execution_count": 2,
   "metadata": {},
   "outputs": [
    {
     "name": "stdout",
     "output_type": "stream",
     "text": [
      "My Name is = Shreyas Srinivasa  and my BlazerId is = SSRINIVA\n"
     ]
    }
   ],
   "source": [
    "print(\"My Name is =\", myName(), \" and my BlazerId is =\",myBlazerID())"
   ]
  },
  {
   "cell_type": "code",
   "execution_count": 7,
   "metadata": {},
   "outputs": [],
   "source": [
    "import turtle\n",
    "from random import randint, choice, uniform\n",
    "from math import pow\n",
    "\n",
    "def r_colors():\n",
    "    '''Generates random real number x: 0 <= x <= 1 for random rgb value generation'''\n",
    "    return uniform(0, 1), uniform(0, 1), uniform(0, 1)\n",
    "\n",
    "def square(n):\n",
    "    '''Draws a square of side n'''\n",
    "    for i in range(4):\n",
    "        turtle.forward(n)\n",
    "        turtle.left(90)\n",
    "        \n",
    "def circle(n):\n",
    "    '''Draws a circle of radius n'''\n",
    "    turtle.circle(n)\n",
    "    \n",
    "def rectangle(n):\n",
    "    '''Draws a rectangle of width 2n and height n'''\n",
    "    for i in range(2):\n",
    "        turtle.forward(2 * n)\n",
    "        turtle.left(90)\n",
    "        turtle.forward(n)\n",
    "        turtle.left(90)\n",
    "        \n",
    "def triangle(n):\n",
    "    '''Draws an equilateral triangle of side n'''\n",
    "    for i in range(3):\n",
    "        turtle.forward(n)\n",
    "        turtle.left(120)\n",
    "        \n",
    "def pentagon(n):\n",
    "    '''Draws a pentagon of side n'''\n",
    "    for i in range(5):\n",
    "        turtle.forward(n)\n",
    "        turtle.left(72)\n",
    "        \n",
    "def star(n):\n",
    "    '''Draws a star of side n'''\n",
    "    for i in range(5):\n",
    "        turtle.forward(n)\n",
    "        turtle.left(144)\n",
    "\n",
    "turtle.TurtleScreen._RUNNING=True\n",
    "\n",
    "# Random shape selection\n",
    "shape = choice([square, circle, rectangle, triangle, pentagon, star])\n",
    "\n",
    "# Random side length selection\n",
    "n = randint(26, 99)\n",
    "\n",
    "# Random pen and fill color selection\n",
    "pen_color = r_colors()\n",
    "fill_color = r_colors()\n",
    "turtle.color(pen_color, fill_color)\n",
    "\n",
    "# Random position selection\n",
    "x_max, y_max = turtle.screensize()\n",
    "x = pow(-1, randint(1, 2)) * randint(0, x_max)\n",
    "y = pow(-1, randint(1, 2)) * randint(0, y_max)\n",
    "turtle.penup()\n",
    "turtle.goto(x, y)\n",
    "turtle.pendown()\n",
    "\n",
    "# Drawing of shape\n",
    "turtle.begin_fill()\n",
    "shape(n)\n",
    "turtle.end_fill()\n",
    "\n",
    "turtle.done()"
   ]
  },
  {
   "cell_type": "code",
   "execution_count": null,
   "metadata": {},
   "outputs": [],
   "source": []
  }
 ],
 "metadata": {
  "kernelspec": {
   "display_name": "Python 3 (ipykernel)",
   "language": "python",
   "name": "python3"
  },
  "language_info": {
   "codemirror_mode": {
    "name": "ipython",
    "version": 3
   },
   "file_extension": ".py",
   "mimetype": "text/x-python",
   "name": "python",
   "nbconvert_exporter": "python",
   "pygments_lexer": "ipython3",
   "version": "3.9.7"
  }
 },
 "nbformat": 4,
 "nbformat_minor": 4
}
