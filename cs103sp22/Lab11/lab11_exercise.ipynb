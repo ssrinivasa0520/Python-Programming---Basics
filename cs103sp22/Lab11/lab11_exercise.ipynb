{
 "cells": [
  {
   "cell_type": "markdown",
   "metadata": {},
   "source": [
    "## Lab 11\n",
    "### Name: Julia W.\n",
    "### BlazerID: luckycat"
   ]
  },
  {
   "cell_type": "code",
   "execution_count": 1,
   "metadata": {},
   "outputs": [],
   "source": [
    "# Imports at the top! :)\n",
    "from turtle import *\n",
    "import numpy as np\n",
    "import math"
   ]
  },
  {
   "cell_type": "markdown",
   "metadata": {},
   "source": [
    "## Exercise 1"
   ]
  },
  {
   "cell_type": "code",
   "execution_count": 2,
   "metadata": {},
   "outputs": [],
   "source": [
    "def tSquare(n):\n",
    "    for i in range(4):\n",
    "        forward(n)\n",
    "        left(90)"
   ]
  },
  {
   "cell_type": "code",
   "execution_count": 3,
   "metadata": {},
   "outputs": [],
   "source": [
    "def tTriangle(n):\n",
    "    for i in range(3):\n",
    "        forward(n)\n",
    "        left(120)"
   ]
  },
  {
   "cell_type": "code",
   "execution_count": 4,
   "metadata": {},
   "outputs": [],
   "source": [
    "def tHouse(n1):\n",
    "    '''\n",
    "    Uses the helper functions tSquare() and tTriangle() to draw a house in turtle graphics.\n",
    "    Input: int n1, length of square & triangle sides\n",
    "    Output: none, turtle graphics\n",
    "    '''\n",
    "    goto(0,0)\n",
    "    tSquare(n1)\n",
    "    penup()\n",
    "    goto(n1/4,0)\n",
    "    pendown()\n",
    "    tSquare(n1/2)\n",
    "    penup()\n",
    "    goto(0,n1)\n",
    "    pendown()\n",
    "    tTriangle(n1)\n",
    "    done()"
   ]
  },
  {
   "cell_type": "code",
   "execution_count": 5,
   "metadata": {},
   "outputs": [],
   "source": [
    "# tHouse(80)\n",
    "# exitonclick()"
   ]
  },
  {
   "cell_type": "markdown",
   "metadata": {},
   "source": [
    "## Exercise 2"
   ]
  },
  {
   "cell_type": "code",
   "execution_count": 6,
   "metadata": {},
   "outputs": [],
   "source": [
    "# Ver. 1: Using print() & basic formatting\n",
    "def twoDmatrix(n2,m):\n",
    "    '''\n",
    "    Makes a matrix with m numbers arranged in lines of n2, with spaces in between.\n",
    "    Input: int n2, int m\n",
    "    Output: none, prints to terminal\n",
    "    '''\n",
    "    ct = 0\n",
    "    line = str(ct)\n",
    "    while ct != m+1:\n",
    "        if ct%n2==0: # if we've reached the n2th number,\n",
    "            if ct!=0:\n",
    "                print(line) # the line's done, so print it\n",
    "                line = str(ct) # then reset the line to be just the curr ct val\n",
    "            else:\n",
    "                line = str(ct)\n",
    "        else: # otherwise, keep adding nums to line w/ spaces in between\n",
    "            line+=\"  \"\n",
    "            line+=str(ct)\n",
    "        ct+=1 # remember to inc ct\n",
    "    print(line) # prints the final line"
   ]
  },
  {
   "cell_type": "code",
   "execution_count": 7,
   "metadata": {},
   "outputs": [
    {
     "name": "stdout",
     "output_type": "stream",
     "text": [
      "0  1  2  3  4  5\n",
      "6  7  8  9  10  11\n",
      "12  13  14  15  16  17\n",
      "18  19  20  21\n"
     ]
    }
   ],
   "source": [
    "twoDmatrix(6,21)"
   ]
  },
  {
   "cell_type": "code",
   "execution_count": 18,
   "metadata": {},
   "outputs": [],
   "source": [
    "# Ver. 2: Using 2D list & .join & .format\n",
    "def twoDmatrix2(n2,m):\n",
    "    l = []\n",
    "    matrix = []\n",
    "    for i in range(0,m+1):\n",
    "        if i%n2==0: # if the i is a mult of n...\n",
    "            if l: # if l isn't empty\n",
    "                matrix.append(l) # add it to the matrix\n",
    "            l = [i] # then overwrite l to just inc curr i\n",
    "        else:\n",
    "            l.append(i) # otherwise, add i to curr l\n",
    "    matrix.append(l) # add last l\n",
    "    print('\\n'.join([''.join(['{:>3}'.format(num) for num in l]) for l in matrix]))"
   ]
  },
  {
   "cell_type": "code",
   "execution_count": 19,
   "metadata": {},
   "outputs": [
    {
     "name": "stdout",
     "output_type": "stream",
     "text": [
      "  0  1  2  3  4  5\n",
      "  6  7  8  9 10 11\n",
      " 12 13 14 15 16 17\n",
      " 18 19 20 21\n"
     ]
    }
   ],
   "source": [
    "twoDmatrix2(6,21)"
   ]
  },
  {
   "cell_type": "markdown",
   "metadata": {},
   "source": [
    "## Exercise 3"
   ]
  },
  {
   "cell_type": "code",
   "execution_count": 8,
   "metadata": {},
   "outputs": [],
   "source": [
    "def armstrongChecker(a):\n",
    "    '''\n",
    "    Checks if an int 100<=a<=999 is an Armstrong number.\n",
    "    Input: int a, b/w 100 & 999\n",
    "    Output: Boolean value\n",
    "    '''\n",
    "    strA = str(a)\n",
    "    if (int(strA[0])**3+int(strA[1])**3+int(strA[2])**3) == a:\n",
    "        return True\n",
    "    else:\n",
    "        return False"
   ]
  },
  {
   "cell_type": "code",
   "execution_count": 9,
   "metadata": {},
   "outputs": [
    {
     "name": "stdout",
     "output_type": "stream",
     "text": [
      "True\n",
      "False\n"
     ]
    }
   ],
   "source": [
    "# Armstrong nums 100-999: 153, 370, 371, 407\n",
    "print(armstrongChecker(371))\n",
    "print(armstrongChecker(555))"
   ]
  }
 ],
 "metadata": {
  "kernelspec": {
   "display_name": "Python 3 (ipykernel)",
   "language": "python",
   "name": "python3"
  },
  "language_info": {
   "codemirror_mode": {
    "name": "ipython",
    "version": 3
   },
   "file_extension": ".py",
   "mimetype": "text/x-python",
   "name": "python",
   "nbconvert_exporter": "python",
   "pygments_lexer": "ipython3",
   "version": "3.9.7"
  }
 },
 "nbformat": 4,
 "nbformat_minor": 4
}
