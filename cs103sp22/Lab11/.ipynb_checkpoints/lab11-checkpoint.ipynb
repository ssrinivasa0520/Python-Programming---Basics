{
 "cells": [
  {
   "cell_type": "markdown",
   "id": "2c2c1c48",
   "metadata": {},
   "source": [
    "CS 103 SPRING 2022"
   ]
  },
  {
   "cell_type": "markdown",
   "id": "9891c9c3",
   "metadata": {},
   "source": [
    "LAB 11"
   ]
  },
  {
   "cell_type": "markdown",
   "id": "4dfbee6c",
   "metadata": {},
   "source": [
    "NAME: SHREYAS SRINIVASA"
   ]
  },
  {
   "cell_type": "markdown",
   "id": "bd7b23c5",
   "metadata": {},
   "source": [
    "BLAZER ID: SSRINIVA"
   ]
  },
  {
   "cell_type": "code",
   "execution_count": 1,
   "id": "38fe1de4",
   "metadata": {},
   "outputs": [],
   "source": [
    "from turtle import *\n",
    "import numpy as np\n",
    "import math\n",
    "def tsquare(n):\n",
    "    for i in range(4):\n",
    "        forward(n)\n",
    "        left(90)\n",
    "def ttriangle(n):\n",
    "    for i in range(3):\n",
    "        forward(n)\n",
    "        left(120)\n",
    "def tHouse(n1):\n",
    "    goto(0,0)\n",
    "    tsquare(n1)\n",
    "    penup()\n",
    "    goto(n1/4,0)\n",
    "    pendown()\n",
    "    tsquare(n1/2)\n",
    "    penup()\n",
    "    goto(0,n1)\n",
    "    pendown()\n",
    "    ttriangle(n1)\n",
    "    done()\n",
    "tHouse(80)"
   ]
  },
  {
   "cell_type": "code",
   "execution_count": 4,
   "id": "478c930e",
   "metadata": {},
   "outputs": [
    {
     "name": "stdout",
     "output_type": "stream",
     "text": [
      "  0  1  2  3  4  5\n",
      "  6  7  8  9 10 11\n",
      " 12 13 14 15 16 17\n",
      " 18 19 20 21\n"
     ]
    }
   ],
   "source": [
    "def twoDmatrix(n2,m):\n",
    "    length = []\n",
    "    matrix = []\n",
    "    for i in range(0,m+1):\n",
    "        if i%n2==0:\n",
    "            if length: \n",
    "                matrix.append(length) \n",
    "            length = [i] \n",
    "        else:\n",
    "            length.append(i) \n",
    "    matrix.append(length) \n",
    "    print('\\n'.join([''.join(['{:>3}'.format(num) for num in length]) for length in matrix]))\n",
    "twoDmatrix(6,21)"
   ]
  },
  {
   "cell_type": "code",
   "execution_count": 5,
   "id": "aacbbf93",
   "metadata": {},
   "outputs": [
    {
     "data": {
      "text/plain": [
       "True"
      ]
     },
     "execution_count": 5,
     "metadata": {},
     "output_type": "execute_result"
    }
   ],
   "source": [
    "def armstrongChecker(a):\n",
    "    Arm = str(a)\n",
    "    if (int(Arm[0])**3+int(Arm[1])**3+int(Arm[2])**3) == a:\n",
    "        return True\n",
    "    else:\n",
    "        return False\n",
    "armstrongChecker(371)"
   ]
  },
  {
   "cell_type": "code",
   "execution_count": 2,
   "id": "33da5142",
   "metadata": {},
   "outputs": [
    {
     "name": "stdout",
     "output_type": "stream",
     "text": [
      "\"uab\"\n"
     ]
    }
   ],
   "source": [
    "def cEmail(s1):\n",
    "    fir_res=s1.split('@')\n",
    "    final = fir_res[1].split('.')\n",
    "    print('\"'+str(final[0])+'\"')\n",
    "cEmail(\"unan@uab.edu\")"
   ]
  },
  {
   "cell_type": "code",
   "execution_count": null,
   "id": "90c3e98a",
   "metadata": {},
   "outputs": [],
   "source": []
  }
 ],
 "metadata": {
  "kernelspec": {
   "display_name": "Python 3 (ipykernel)",
   "language": "python",
   "name": "python3"
  },
  "language_info": {
   "codemirror_mode": {
    "name": "ipython",
    "version": 3
   },
   "file_extension": ".py",
   "mimetype": "text/x-python",
   "name": "python",
   "nbconvert_exporter": "python",
   "pygments_lexer": "ipython3",
   "version": "3.9.7"
  }
 },
 "nbformat": 4,
 "nbformat_minor": 5
}
