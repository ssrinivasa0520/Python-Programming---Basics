{
 "cells": [
  {
   "cell_type": "code",
   "execution_count": 1,
   "id": "2d850035",
   "metadata": {},
   "outputs": [],
   "source": [
    "import math"
   ]
  },
  {
   "cell_type": "code",
   "execution_count": 2,
   "id": "54cb9cc3",
   "metadata": {},
   "outputs": [
    {
     "name": "stdout",
     "output_type": "stream",
     "text": [
      "32.5\n"
     ]
    }
   ],
   "source": [
    "def addTwoNumbers(f1,f2):\n",
    "    add = f1+f2\n",
    "    return add\n",
    "\n",
    "print (addTwoNumbers(25.2,7.3))"
   ]
  },
  {
   "cell_type": "code",
   "execution_count": 3,
   "id": "38baa6ef",
   "metadata": {},
   "outputs": [
    {
     "name": "stdout",
     "output_type": "stream",
     "text": [
      "4.2\n"
     ]
    }
   ],
   "source": [
    "def divTwoNumbers(f1,f2):\n",
    "    div = f1/f2\n",
    "    return div\n",
    "\n",
    "print (divTwoNumbers(12.6,3.0))"
   ]
  },
  {
   "cell_type": "code",
   "execution_count": 4,
   "id": "9110470b",
   "metadata": {},
   "outputs": [
    {
     "name": "stdout",
     "output_type": "stream",
     "text": [
      "2.55\n"
     ]
    }
   ],
   "source": [
    "def subTwoNumbers(f1,f2):\n",
    "    sub = f1-f2\n",
    "    return sub\n",
    "\n",
    "print (subTwoNumbers(6.66,4.11))"
   ]
  },
  {
   "cell_type": "code",
   "execution_count": 5,
   "id": "18191e62",
   "metadata": {},
   "outputs": [
    {
     "name": "stdout",
     "output_type": "stream",
     "text": [
      "68\n"
     ]
    }
   ],
   "source": [
    "def f(x,y):\n",
    "    func = ((x+y)**3)/math.sqrt((x**2)+(y**2))\n",
    "    return int(func)\n",
    "\n",
    "print (f(3,4))"
   ]
  },
  {
   "cell_type": "code",
   "execution_count": 15,
   "id": "7afe6847",
   "metadata": {},
   "outputs": [
    {
     "name": "stdout",
     "output_type": "stream",
     "text": [
      "23.333333333333336\n"
     ]
    }
   ],
   "source": [
    "def fahr2celsius(f):\n",
    "    cels = (5/9)*(f-32)\n",
    "    return cels\n",
    "\n",
    "print (fahr2celsius(74))"
   ]
  },
  {
   "cell_type": "code",
   "execution_count": 16,
   "id": "90414e3a",
   "metadata": {},
   "outputs": [
    {
     "name": "stdout",
     "output_type": "stream",
     "text": [
      "4188.790204786391\n"
     ]
    }
   ],
   "source": [
    "def volumeSphere(r):\n",
    "    volume = (4/3)*math.pi*(r**3)\n",
    "    return volume\n",
    "\n",
    "print (volumeSphere(10))"
   ]
  },
  {
   "cell_type": "code",
   "execution_count": 19,
   "id": "127abc87",
   "metadata": {},
   "outputs": [
    {
     "name": "stdout",
     "output_type": "stream",
     "text": [
      "40\n"
     ]
    }
   ],
   "source": [
    "def averageOfThree(f1,f2,f3):\n",
    "    average = (f1+f2+f3)//3\n",
    "    return average\n",
    "\n",
    "print (averageOfThree(11,33,76))"
   ]
  },
  {
   "cell_type": "code",
   "execution_count": null,
   "id": "94509e95",
   "metadata": {},
   "outputs": [],
   "source": []
  }
 ],
 "metadata": {
  "kernelspec": {
   "display_name": "Python 3 (ipykernel)",
   "language": "python",
   "name": "python3"
  },
  "language_info": {
   "codemirror_mode": {
    "name": "ipython",
    "version": 3
   },
   "file_extension": ".py",
   "mimetype": "text/x-python",
   "name": "python",
   "nbconvert_exporter": "python",
   "pygments_lexer": "ipython3",
   "version": "3.9.7"
  }
 },
 "nbformat": 4,
 "nbformat_minor": 5
}
