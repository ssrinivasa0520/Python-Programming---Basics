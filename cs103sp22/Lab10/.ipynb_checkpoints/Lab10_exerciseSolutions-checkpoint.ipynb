{
 "cells": [
  {
   "cell_type": "markdown",
   "metadata": {},
   "source": [
    "## Lab 10\n",
    "\n",
    "Hilal Nur Issi\n",
    "\n",
    "hnissi"
   ]
  },
  {
   "cell_type": "markdown",
   "metadata": {},
   "source": [
    "EXERCISE 1: "
   ]
  },
  {
   "cell_type": "code",
   "execution_count": 1,
   "metadata": {},
   "outputs": [],
   "source": [
    "def listToDict(L1,L2):\n",
    "    newDict = {}\n",
    "    \n",
    "    for key in L1:\n",
    "        for value in L2:\n",
    "            newDict[key] = value\n",
    "            L2.remove(value)\n",
    "            break \n",
    "            \n",
    "    return newDict"
   ]
  },
  {
   "cell_type": "code",
   "execution_count": 2,
   "metadata": {},
   "outputs": [
    {
     "data": {
      "text/plain": [
       "{1: 'first', 2: 'second', 3: 'third'}"
      ]
     },
     "execution_count": 2,
     "metadata": {},
     "output_type": "execute_result"
    }
   ],
   "source": [
    "L1=[1,2,3]\n",
    "L2=['first','second','third']\n",
    "listToDict(L1,L2)"
   ]
  },
  {
   "cell_type": "code",
   "execution_count": 3,
   "metadata": {},
   "outputs": [],
   "source": [
    "#alternate solution\n",
    "def listToDict2(L1,L2):\n",
    "    newDict = {}\n",
    "    for i in range(len(L1)):\n",
    "        newDict[L1[i]] = L2[i]\n",
    "    return newDict"
   ]
  },
  {
   "cell_type": "code",
   "execution_count": 4,
   "metadata": {},
   "outputs": [
    {
     "data": {
      "text/plain": [
       "{1: 'first', 2: 'second', 3: 'third', 4: 'fourth'}"
      ]
     },
     "execution_count": 4,
     "metadata": {},
     "output_type": "execute_result"
    }
   ],
   "source": [
    "L1=[1,2,3,4]\n",
    "L2=['first','second','third','fourth']\n",
    "listToDict2(L1,L2)"
   ]
  },
  {
   "cell_type": "markdown",
   "metadata": {},
   "source": [
    "EXERCISE 2:"
   ]
  },
  {
   "cell_type": "code",
   "execution_count": 5,
   "metadata": {},
   "outputs": [],
   "source": [
    "def dMax(d):\n",
    "    maxVal = 0\n",
    "    \n",
    "    for el in d:\n",
    "        if maxVal < d[el]:\n",
    "            maxVal = d[el]\n",
    "            \n",
    "    return maxVal"
   ]
  },
  {
   "cell_type": "code",
   "execution_count": 6,
   "metadata": {},
   "outputs": [
    {
     "data": {
      "text/plain": [
       "61874"
      ]
     },
     "execution_count": 6,
     "metadata": {},
     "output_type": "execute_result"
    }
   ],
   "source": [
    "d = {'a':2500, 'b':61874, 'c': 60, 'd': 1560}\n",
    "dMax(d)"
   ]
  },
  {
   "cell_type": "markdown",
   "metadata": {},
   "source": [
    "EXERCISE 3:"
   ]
  },
  {
   "cell_type": "code",
   "execution_count": 7,
   "metadata": {},
   "outputs": [],
   "source": [
    "def dString(s):\n",
    "    Mydic = {} \n",
    "    for c in s:\n",
    "        if c == ' ': \n",
    "            continue #if it is a space ignore it \n",
    "        total = s.count(c) \n",
    "        Mydic[c] = total\n",
    "    return Mydic "
   ]
  },
  {
   "cell_type": "code",
   "execution_count": 8,
   "metadata": {},
   "outputs": [
    {
     "data": {
      "text/plain": [
       "{'U': 1, 'A': 1, 'B': 2, 'C': 1, 'S': 2}"
      ]
     },
     "execution_count": 8,
     "metadata": {},
     "output_type": "execute_result"
    }
   ],
   "source": [
    "s = 'UAB CS BS'\n",
    "dString(s)"
   ]
  },
  {
   "cell_type": "markdown",
   "metadata": {},
   "source": [
    "EXERCISE 4:"
   ]
  },
  {
   "cell_type": "code",
   "execution_count": 3,
   "metadata": {},
   "outputs": [],
   "source": [
    "def dMerge(d1,d2):\n",
    "    fruitDict = {}\n",
    "    \n",
    "    for el in d1:\n",
    "        fruitDict[el]=d1[el]\n",
    "        \n",
    "    for fruit in d2:\n",
    "        if fruitDict.get(fruit) is not None:\n",
    "            fruitDict[fruit]+= d2[fruit]\n",
    "        else:\n",
    "            fruitDict[fruit]=d2[fruit]\n",
    "            \n",
    "    return fruitDict"
   ]
  },
  {
   "cell_type": "code",
   "execution_count": 4,
   "metadata": {},
   "outputs": [
    {
     "data": {
      "text/plain": [
       "{'orange': 550, 'apple': 1110, 'carrot': 600, 'grapes': 300}"
      ]
     },
     "execution_count": 4,
     "metadata": {},
     "output_type": "execute_result"
    }
   ],
   "source": [
    "d1 = {'orange': 500, 'apple': 1100, 'carrot':600}\n",
    "d2 = {'orange': 50, 'apple': 10,'grapes':300}\n",
    "dMerge(d1,d2)"
   ]
  },
  {
   "cell_type": "code",
   "execution_count": 14,
   "metadata": {},
   "outputs": [
    {
     "data": {
      "text/plain": [
       "{1: 1, 2: 8, 3: 27, 4: 64}"
      ]
     },
     "execution_count": 14,
     "metadata": {},
     "output_type": "execute_result"
    }
   ],
   "source": [
    "dCube(5)"
   ]
  },
  {
   "cell_type": "code",
   "execution_count": null,
   "metadata": {},
   "outputs": [],
   "source": []
  }
 ],
 "metadata": {
  "kernelspec": {
   "display_name": "Python 3 (ipykernel)",
   "language": "python",
   "name": "python3"
  },
  "language_info": {
   "codemirror_mode": {
    "name": "ipython",
    "version": 3
   },
   "file_extension": ".py",
   "mimetype": "text/x-python",
   "name": "python",
   "nbconvert_exporter": "python",
   "pygments_lexer": "ipython3",
   "version": "3.9.7"
  }
 },
 "nbformat": 4,
 "nbformat_minor": 4
}
