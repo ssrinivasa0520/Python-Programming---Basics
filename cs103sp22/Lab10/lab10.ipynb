{
 "cells": [
  {
   "cell_type": "markdown",
   "metadata": {},
   "source": [
    "CS 103 SPRING 2022"
   ]
  },
  {
   "cell_type": "markdown",
   "metadata": {},
   "source": [
    "LAB 10"
   ]
  },
  {
   "cell_type": "markdown",
   "metadata": {},
   "source": [
    "NAME: SHREYAS SRINIVASA"
   ]
  },
  {
   "cell_type": "markdown",
   "metadata": {},
   "source": [
    "BLAZER ID: SSRINIVA"
   ]
  },
  {
   "cell_type": "code",
   "execution_count": 3,
   "metadata": {},
   "outputs": [
    {
     "data": {
      "text/plain": [
       "{'1': 'first', '2': 'second', '3': 'third'}"
      ]
     },
     "execution_count": 3,
     "metadata": {},
     "output_type": "execute_result"
    }
   ],
   "source": [
    "import math\n",
    "import random\n",
    "def listToDict(L1,L2):\n",
    "    result = {}\n",
    "    for key in L1:\n",
    "        for value in L2:\n",
    "            result[key] = value\n",
    "            L2.remove(value)\n",
    "            break  \n",
    "    return result\n",
    "\n",
    "listToDict(['1','2','3'],['first','second','third'])\n",
    "#I made it to look like how your sample output looks like."
   ]
  },
  {
   "cell_type": "code",
   "execution_count": 9,
   "metadata": {},
   "outputs": [
    {
     "data": {
      "text/plain": [
       "61874"
      ]
     },
     "execution_count": 9,
     "metadata": {},
     "output_type": "execute_result"
    }
   ],
   "source": [
    "def dMax(d):\n",
    "    all_values = d.values()\n",
    "    max_value = max(all_values)\n",
    "\n",
    "\n",
    "    return max_value\n",
    "\n",
    "dMax({'a':2500, 'b':61874, 'c': 60, 'd': 1560})"
   ]
  },
  {
   "cell_type": "code",
   "execution_count": 18,
   "metadata": {},
   "outputs": [
    {
     "data": {
      "text/plain": [
       "{'U': 1, 'A': 1, 'B': 2, 'C': 1, 'S': 2}"
      ]
     },
     "execution_count": 18,
     "metadata": {},
     "output_type": "execute_result"
    }
   ],
   "source": [
    "from collections import defaultdict, Counter\n",
    "def dString(s):\n",
    "    my_dict = {}\n",
    "    for letter in s:\n",
    "        my_dict[letter] = my_dict.get(letter,0)+1\n",
    "    if ' ' in my_dict:\n",
    "        del my_dict[' ']\n",
    "    return my_dict\n",
    "\n",
    "dString(\"UAB CS BS\")"
   ]
  },
  {
   "cell_type": "code",
   "execution_count": 5,
   "metadata": {},
   "outputs": [
    {
     "name": "stdout",
     "output_type": "stream",
     "text": [
      "d3 = {'orange': 550, 'apple': 1110, 'carrot': 600, 'grapes': 300}\n"
     ]
    }
   ],
   "source": [
    "from collections import Counter\n",
    "import operator\n",
    "def dMerge(d1,d2):\n",
    "    fruits = {}\n",
    "    \n",
    "    for i in d1:\n",
    "        fruits[i]=d1[i]\n",
    "        \n",
    "    for j in d2:\n",
    "        if fruits.get(j) is not None:\n",
    "            fruits[j]+= d2[j]\n",
    "        else:\n",
    "            fruits[j]=d2[j]\n",
    "            \n",
    "    print(\"d3 =\",fruits)\n",
    "\n",
    "dMerge({'orange': 500, 'apple': 1100, 'carrot':600},{'orange': 50, 'apple': 10,'grapes':300})"
   ]
  },
  {
   "cell_type": "code",
   "execution_count": 2,
   "metadata": {},
   "outputs": [
    {
     "data": {
      "text/plain": [
       "{1: 1, 2: 8, 3: 27, 4: 64, 5: 125}"
      ]
     },
     "execution_count": 2,
     "metadata": {},
     "output_type": "execute_result"
    }
   ],
   "source": [
    "from collections import Counter\n",
    "\n",
    "def dCube(n):\n",
    "    return dict([(x, x**3) for x in range(1, n + 1)])\n",
    "\n",
    "dCube(5)"
   ]
  },
  {
   "cell_type": "code",
   "execution_count": 11,
   "metadata": {},
   "outputs": [
    {
     "data": {
      "text/plain": [
       "['d', 'r']"
      ]
     },
     "execution_count": 11,
     "metadata": {},
     "output_type": "execute_result"
    }
   ],
   "source": [
    "from collections import Counter\n",
    "\n",
    "def nonRepeatings(s3):\n",
    "    y = Counter(s3)\n",
    "    return [x for x in y if y[x] == 1]\n",
    "\n",
    "nonRepeatings('aaazzzdcccrttt')"
   ]
  }
 ],
 "metadata": {
  "kernelspec": {
   "display_name": "Python 3",
   "language": "python",
   "name": "python3"
  },
  "language_info": {
   "codemirror_mode": {
    "name": "ipython",
    "version": 3
   },
   "file_extension": ".py",
   "mimetype": "text/x-python",
   "name": "python",
   "nbconvert_exporter": "python",
   "pygments_lexer": "ipython3",
   "version": "3.8.10"
  }
 },
 "nbformat": 4,
 "nbformat_minor": 5
}
