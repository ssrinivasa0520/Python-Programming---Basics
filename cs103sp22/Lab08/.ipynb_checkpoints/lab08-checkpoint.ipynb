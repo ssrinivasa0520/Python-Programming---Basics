{
 "cells": [
  {
   "cell_type": "markdown",
   "id": "6aad3fab",
   "metadata": {},
   "source": [
    "CS 103 SPRING 2022"
   ]
  },
  {
   "cell_type": "markdown",
   "id": "9ac2766b",
   "metadata": {},
   "source": [
    "LAB 08"
   ]
  },
  {
   "cell_type": "markdown",
   "id": "fc69d4bf",
   "metadata": {},
   "source": [
    "NAME: SHREYAS SRINIVASA"
   ]
  },
  {
   "cell_type": "markdown",
   "id": "2f763824",
   "metadata": {},
   "source": [
    "BLAZER ID: SSRINIVA"
   ]
  },
  {
   "cell_type": "code",
   "execution_count": 55,
   "id": "afccff97",
   "metadata": {},
   "outputs": [
    {
     "name": "stdout",
     "output_type": "stream",
     "text": [
      "([-18, -16, 0, 2, 6, 18, 18], [18, 18, 6, 2, 0, -16, -18])\n"
     ]
    }
   ],
   "source": [
    "import math\n",
    "import random\n",
    "def listCheckAndSort(L):\n",
    "    t = []\n",
    "    count = []\n",
    "    for num in L:\n",
    " \n",
    "    # checking condition\n",
    "        if num % 2 == 0:\n",
    "            if num>=-20 and num<20:\n",
    "                t = [num]\n",
    "                count = count + t\n",
    "    final_list = count\n",
    "    lowest_list = list(final_list)\n",
    "    highest_list = list(final_list)\n",
    "    lowest_list.sort()\n",
    "    highest_list.sort(reverse = True)\n",
    "    final_tuple = (lowest_list,highest_list)\n",
    "    print (final_tuple)\n",
    "\n",
    "listCheckAndSort([2,-16,6,77,100,-3,62,18,0,123,1,18,-18])"
   ]
  },
  {
   "cell_type": "code",
   "execution_count": 118,
   "id": "55e8c124",
   "metadata": {},
   "outputs": [
    {
     "name": "stdout",
     "output_type": "stream",
     "text": [
      "(17.0, 79.0, 71.25)\n"
     ]
    }
   ],
   "source": [
    "def finalGrade(classList):\n",
    "    x = 0\n",
    "    count = 0\n",
    "    a = []\n",
    "    b = []\n",
    "    b = [len(x) for x in str(classList[0])]\n",
    "    count = sum (b)\n",
    "    if count%3 == 0:\n",
    "        a = [sum(x)/float(len(x)) for x in zip(*classList)]\n",
    "    else:\n",
    "        print (\"You have more values than necessary! Enter only attendance, exam grade and homework grade!\")\n",
    "    if a!=[]:\n",
    "        print (tuple(a))\n",
    "    \n",
    "    \n",
    "\n",
    "finalGrade([[20,80,90], [10,60,40], [17, 77,56], [21,99,99]])"
   ]
  },
  {
   "cell_type": "code",
   "execution_count": 127,
   "id": "48640a41",
   "metadata": {},
   "outputs": [
    {
     "name": "stdout",
     "output_type": "stream",
     "text": [
      "The missing values: a, c\n",
      "The extra values: f, g\n"
     ]
    }
   ],
   "source": [
    "def listCompare(L1,L2):\n",
    "    set1 = set(L1)\n",
    "    set2 = set(L2)\n",
    "\n",
    "    missing = list(sorted(set1 - set2))\n",
    "    added = list(sorted(set2 - set1))\n",
    "    final_missing = (', '.join(missing))\n",
    "    final_added = (', '.join(added))\n",
    "\n",
    "    print('The missing values:', final_missing)\n",
    "    print('The extra values:', final_added)\n",
    "\n",
    "listCompare([\"a\", \"b\", \"c\", \"d\", \"e\"],[\"b\", \"d\", \"e\", \"f\", \"g\"])"
   ]
  },
  {
   "cell_type": "code",
   "execution_count": 135,
   "id": "22db6fde",
   "metadata": {},
   "outputs": [
    {
     "name": "stdout",
     "output_type": "stream",
     "text": [
      "5\n"
     ]
    }
   ],
   "source": [
    "import numpy as np\n",
    "def arg(L):\n",
    "    \"\"\"Returns the index of the smallest element in a list by using the argmin function\"\"\"\n",
    "    my_array = np.array(L)\n",
    "    b = np.argmin(a = my_array)\n",
    "    print (b)\n",
    "\n",
    "arg([3, 6, 20, 2, 12, -4, 20])"
   ]
  },
  {
   "cell_type": "code",
   "execution_count": 139,
   "id": "fb7c804c",
   "metadata": {},
   "outputs": [
    {
     "name": "stdout",
     "output_type": "stream",
     "text": [
      "True\n"
     ]
    }
   ],
   "source": [
    "def isPrime(n):\n",
    "    '''Returns a boolean True or False if a number is Prime or not'''\n",
    "    if n > 1:\n",
    "    # Iterate through 2 to num/2.\n",
    "        for i in range(2,n//2):\n",
    "        #Select if the number is divisible by any number between 2 and num/2.\n",
    "            if (n % i) == 0:\n",
    "                print (False)\n",
    "                break\n",
    "            else:\n",
    "            #If given number is not fully divisible by any number between 1 and num/2, then its prime.\n",
    "                print (True)\n",
    "                break\n",
    "    # Also, if the number is less than 1, its also not a prime number.\n",
    "    else:\n",
    "        print (False)\n",
    "\n",
    "isPrime(11)"
   ]
  },
  {
   "cell_type": "code",
   "execution_count": 140,
   "id": "2788be6e",
   "metadata": {},
   "outputs": [
    {
     "name": "stdout",
     "output_type": "stream",
     "text": [
      "True\n"
     ]
    }
   ],
   "source": [
    "isPrime(17)"
   ]
  },
  {
   "cell_type": "code",
   "execution_count": null,
   "id": "049ad343",
   "metadata": {},
   "outputs": [],
   "source": []
  }
 ],
 "metadata": {
  "kernelspec": {
   "display_name": "Python 3 (ipykernel)",
   "language": "python",
   "name": "python3"
  },
  "language_info": {
   "codemirror_mode": {
    "name": "ipython",
    "version": 3
   },
   "file_extension": ".py",
   "mimetype": "text/x-python",
   "name": "python",
   "nbconvert_exporter": "python",
   "pygments_lexer": "ipython3",
   "version": "3.9.7"
  }
 },
 "nbformat": 4,
 "nbformat_minor": 5
}
