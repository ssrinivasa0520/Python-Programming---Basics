{
 "cells": [
  {
   "cell_type": "markdown",
   "metadata": {},
   "source": [
    "## Lab 08\n",
    "Hilal Nur Issi\n",
    "\n",
    "hnissi"
   ]
  },
  {
   "cell_type": "markdown",
   "metadata": {},
   "source": [
    "## Exercises Problems"
   ]
  },
  {
   "cell_type": "markdown",
   "metadata": {},
   "source": [
    "Exercises 1"
   ]
  },
  {
   "cell_type": "code",
   "execution_count": 11,
   "metadata": {},
   "outputs": [],
   "source": [
    "# Version 1; using sorted()\n",
    "def listCheckAndSort(L):\n",
    "    '''\n",
    "        This function takes in a list & returns tuple containing 2 lists of even numbers from -20 to 20--one in reverse, one not\n",
    "        Input: list L\n",
    "        Output: returns tuple containing two lists, sortedList & reverseList\n",
    "    '''\n",
    "    rList = []\n",
    "\n",
    "    for e in L:\n",
    "        if e%2 ==0 and e>=-20 and e < 20:\n",
    "            rList.append(e)\n",
    "    \n",
    "    sortedList = sorted(rList)\n",
    "    reverseList = sorted(rList, reverse = True)\n",
    "    \n",
    "    returnTuple = (sortedList,reverseList)\n",
    "    \n",
    "    return returnTuple"
   ]
  },
  {
   "cell_type": "code",
   "execution_count": 12,
   "metadata": {},
   "outputs": [
    {
     "data": {
      "text/plain": [
       "([-18, -16, 0, 2, 6, 18, 18], [18, 18, 6, 2, 0, -16, -18])"
      ]
     },
     "execution_count": 12,
     "metadata": {},
     "output_type": "execute_result"
    }
   ],
   "source": [
    "L = [2,-16,6,77,100,-3,62,18,0,123,1,18,-18]\n",
    "listCheckAndSort(L)"
   ]
  },
  {
   "cell_type": "code",
   "execution_count": 48,
   "metadata": {},
   "outputs": [],
   "source": [
    "# Version 2; using list.sort() & list.reverse()\n",
    "def listCheckAndSort2(L):\n",
    "    '''\n",
    "        This function takes in a list & returns tuple containing 2 lists of even numbers from -20 to 20--one in reverse, one not\n",
    "        Input: list L\n",
    "        Output: returns tuple containing two lists, sortedList & reverseList\n",
    "    '''\n",
    "    rList = []\n",
    "\n",
    "    for e in L:\n",
    "        if e%2 ==0 and e>=-20 and e < 20:\n",
    "            rList.append(e)\n",
    "    \n",
    "    sortedList = rList\n",
    "    sortedList.sort()\n",
    "    \n",
    "    reverseList = sortedList[:]\n",
    "    reverseList.reverse()\n",
    "    \n",
    "    return (sortedList,reverseList)"
   ]
  },
  {
   "cell_type": "code",
   "execution_count": 49,
   "metadata": {},
   "outputs": [
    {
     "data": {
      "text/plain": [
       "([-18, -16, 0, 2, 6, 18, 18], [18, 18, 6, 2, 0, -16, -18])"
      ]
     },
     "execution_count": 49,
     "metadata": {},
     "output_type": "execute_result"
    }
   ],
   "source": [
    "L = [2,-16,6,77,100,-3,62,18,0,123,1,18,-18]\n",
    "listCheckAndSort2(L)"
   ]
  },
  {
   "cell_type": "markdown",
   "metadata": {},
   "source": [
    "   "
   ]
  },
  {
   "cell_type": "markdown",
   "metadata": {},
   "source": [
    "Exercises 2"
   ]
  },
  {
   "cell_type": "code",
   "execution_count": 13,
   "metadata": {},
   "outputs": [],
   "source": [
    "def finalGrade(classList):\n",
    "    '''\n",
    "        This function takes a list of class grades & rets a tuple of the avg grades for the class\n",
    "        Input: list of lists, classList\n",
    "        Output: returns tuple\n",
    "    '''\n",
    "    avg_att , avg_exam, avg_hw = 0,0,0\n",
    "    \n",
    "    for i in classList:\n",
    "        avg_att += i[0]\n",
    "        avg_exam += i[1]\n",
    "        avg_hw += i[2]\n",
    "        \n",
    "    return (avg_att/len(classList),avg_exam/len(classList),avg_hw/len(classList))"
   ]
  },
  {
   "cell_type": "code",
   "execution_count": 14,
   "metadata": {},
   "outputs": [
    {
     "name": "stdout",
     "output_type": "stream",
     "text": [
      "(17.0, 79.0, 71.25)\n"
     ]
    }
   ],
   "source": [
    "classList = [[20,80,90], [10,60,40], [17, 77,56], [21,99,99]]\n",
    "print(finalGrade(classList))"
   ]
  },
  {
   "cell_type": "markdown",
   "metadata": {},
   "source": [
    "   "
   ]
  },
  {
   "cell_type": "markdown",
   "metadata": {},
   "source": [
    "Exercises 3"
   ]
  },
  {
   "cell_type": "code",
   "execution_count": 15,
   "metadata": {},
   "outputs": [],
   "source": [
    "# Version 1 (challenging sample output)\n",
    "def listCompare(L1, L2):\n",
    "    '''\n",
    "        This function takes 2 lists, compares them, & prints which values are present in L1 but not L2 and viceversa\n",
    "        Input: list L1, list L2\n",
    "        Output: none (prints to terminal)\n",
    "    '''\n",
    "    listMissing = []\n",
    "    listExtra = []\n",
    "    \n",
    "    for e in L1:\n",
    "        status =  False\n",
    "        for i in L2:\n",
    "            if e == i:\n",
    "                status = True\n",
    "            if i not in L1 and i not in listExtra:\n",
    "                listExtra.append(i)\n",
    "        if not status:\n",
    "            listMissing.append(e)\n",
    "            \n",
    "    print('missings =', ', '.join(listMissing))\n",
    "    print('extra =', ', '.join(listExtra))"
   ]
  },
  {
   "cell_type": "code",
   "execution_count": 16,
   "metadata": {},
   "outputs": [
    {
     "name": "stdout",
     "output_type": "stream",
     "text": [
      "missings = a, c\n",
      "extra = f, g\n"
     ]
    }
   ],
   "source": [
    "L1 = ['a', 'b', 'c', 'd', 'e']\n",
    "L2 = ['b', 'd', 'e', 'f', 'g']\n",
    "listCompare(L1, L2)"
   ]
  },
  {
   "cell_type": "code",
   "execution_count": 3,
   "metadata": {},
   "outputs": [],
   "source": [
    "# Version 2(simple sample output)\n",
    "def listCompare2(L1,L2):\n",
    "    '''\n",
    "        This function takes 2 lists, compares them, & prints which values are present in L1 but not L2 and viceversa\n",
    "        Input: list L1, list L2\n",
    "        Output: none (prints to terminal)\n",
    "    '''\n",
    "    missingVals =''\n",
    "    extraVals =''\n",
    "    for i in L1:\n",
    "        if i not in L2:\n",
    "            missingVals+=i\n",
    "    for j in L2:\n",
    "        if j not in L1:\n",
    "            extraVals+=j\n",
    "    print(\"Missing Values are: \",missingVals)\n",
    "    print(\"Extra Values are: \",extraVals)"
   ]
  },
  {
   "cell_type": "code",
   "execution_count": 4,
   "metadata": {},
   "outputs": [
    {
     "name": "stdout",
     "output_type": "stream",
     "text": [
      "Missing Values are:  ac\n",
      "Extra Values are:  fg\n"
     ]
    }
   ],
   "source": [
    "L1 = ['a', 'b', 'c', 'd', 'e']\n",
    "L2 = ['b', 'd', 'e', 'f', 'g']\n",
    "listCompare2(L1, L2)"
   ]
  },
  {
   "cell_type": "code",
   "execution_count": null,
   "metadata": {},
   "outputs": [],
   "source": []
  }
 ],
 "metadata": {
  "kernelspec": {
   "display_name": "Python 3",
   "language": "python",
   "name": "python3"
  },
  "language_info": {
   "codemirror_mode": {
    "name": "ipython",
    "version": 3
   },
   "file_extension": ".py",
   "mimetype": "text/x-python",
   "name": "python",
   "nbconvert_exporter": "python",
   "pygments_lexer": "ipython3",
   "version": "3.8.8"
  }
 },
 "nbformat": 4,
 "nbformat_minor": 4
}
