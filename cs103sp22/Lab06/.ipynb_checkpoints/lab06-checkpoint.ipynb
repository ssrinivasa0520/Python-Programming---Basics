{
 "cells": [
  {
   "cell_type": "markdown",
   "id": "9215c743",
   "metadata": {},
   "source": [
    "NAME: SHREYAS SRINIVASA"
   ]
  },
  {
   "cell_type": "markdown",
   "id": "8a143db2",
   "metadata": {},
   "source": [
    "BLAZER ID: SSRINIVA"
   ]
  },
  {
   "cell_type": "markdown",
   "id": "718e2de3",
   "metadata": {},
   "source": [
    "CS 103 SPRING 2022 LAB 06"
   ]
  },
  {
   "cell_type": "code",
   "execution_count": 1,
   "id": "1abb29e6",
   "metadata": {},
   "outputs": [
    {
     "name": "stdout",
     "output_type": "stream",
     "text": [
      "3\n",
      "6\n",
      "9\n",
      "12\n"
     ]
    }
   ],
   "source": [
    "import math\n",
    "import random\n",
    "def mOfThree(n):\n",
    "    i = 1\n",
    "    while (i<=n):\n",
    "        if (i%3==0):\n",
    "            print (i)\n",
    "        i+=1\n",
    "            \n",
    "mOfThree(14)"
   ]
  },
  {
   "cell_type": "code",
   "execution_count": 2,
   "id": "e571db53",
   "metadata": {},
   "outputs": [
    {
     "name": "stdout",
     "output_type": "stream",
     "text": [
      "Number of even numbers : 4\n",
      "Number of odd numbers : 5\n"
     ]
    }
   ],
   "source": [
    "def tupleCheck(t):\n",
    "\n",
    "    EvenCount = OddCount = 0\n",
    "\n",
    "    for i in range(len(t)):\n",
    "        if(t[i] % 2 == 0):\n",
    "            EvenCount = EvenCount + 1\n",
    "        else:\n",
    "            OddCount = OddCount + 1\n",
    "\n",
    "    print(\"Number of even numbers :\", EvenCount)\n",
    "    print(\"Number of odd numbers :\", OddCount)\n",
    "\n",
    "tupleCheck((1,2,3,4,5,6,7,8,9))"
   ]
  },
  {
   "cell_type": "code",
   "execution_count": 3,
   "id": "4644a9b6",
   "metadata": {},
   "outputs": [
    {
     "name": "stdout",
     "output_type": "stream",
     "text": [
      "Number of Upper case characters : 3\n",
      "Number of Lower case Characters : 13\n"
     ]
    }
   ],
   "source": [
    "def caseCheck(s):\n",
    "    upper = 0\n",
    "    lower = 0\n",
    "    for i in s:\n",
    "        if i >='A' and i <= 'Z':\n",
    "            upper += 1\n",
    "        elif i >= 'a' and i <= 'z':\n",
    "            lower += 1\n",
    "    print(\"Number of Upper case characters : \" + str(upper))\n",
    "    print(\"Number of Lower case Characters : \" + str(lower))\n",
    "\n",
    "caseCheck('The quick Brown Fox')"
   ]
  },
  {
   "cell_type": "code",
   "execution_count": 4,
   "id": "d088c152",
   "metadata": {},
   "outputs": [
    {
     "name": "stdout",
     "output_type": "stream",
     "text": [
      "1\n",
      "8\n",
      "27\n",
      "64\n"
     ]
    }
   ],
   "source": [
    "def iCube(n):\n",
    "    ''' Cubes numbers from 1 upto the user entered number.'''\n",
    "    i=1\n",
    "    while i<n:\n",
    "        print (i**3)\n",
    "        i+=1\n",
    "\n",
    "iCube(5)"
   ]
  },
  {
   "cell_type": "code",
   "execution_count": 39,
   "id": "fde93707",
   "metadata": {},
   "outputs": [
    {
     "name": "stdout",
     "output_type": "stream",
     "text": [
      "\n",
      "Enter a string: hi\n",
      "\n",
      "Enter a string: how are you?\n",
      "\n",
      "Enter a string: done\n",
      "\n",
      "The concatenation is: hi how are you?\n"
     ]
    }
   ],
   "source": [
    "def sConcatenate(): \n",
    "    \"\"\" Accepts string inputs from user until they enter 'done'. Then adds all the user inputs together, except for the word \n",
    "        'done' to form a sentence. \"\"\"\n",
    "    string = \"\"\n",
    "    con = \"\"\n",
    "    while (string != \"done\"):\n",
    "        string = input(\"\\nEnter a string: \")\n",
    "        con = con+\" \"+string\n",
    "        concat = con.split()\n",
    "        concaten = \" \".join(concat[:-1])\n",
    "    print (\"\\nThe concatenation is:\",concaten)                   \n",
    "\n",
    "sConcatenate()"
   ]
  },
  {
   "cell_type": "code",
   "execution_count": 6,
   "id": "fb9aad8d",
   "metadata": {},
   "outputs": [
    {
     "name": "stdout",
     "output_type": "stream",
     "text": [
      "\n",
      "Enter a string: where\n",
      "\n",
      "Enter a string: are\n",
      "\n",
      "Enter a string: you\n",
      "\n",
      "Enter a string: going?\n",
      "\n",
      "Enter a string: done\n",
      "\n",
      "The concatenation is: where are you going?\n"
     ]
    }
   ],
   "source": [
    "sConcatenate()"
   ]
  },
  {
   "cell_type": "code",
   "execution_count": 22,
   "id": "8b594de6",
   "metadata": {},
   "outputs": [
    {
     "name": "stdout",
     "output_type": "stream",
     "text": [
      "I'm thinking of a number between 1 and 100\n",
      "Can you guess what the number is?\n",
      "Enter your guess \n",
      "28\n",
      "Too low!\n",
      "Enter your guess \n",
      "39\n",
      "Too low!\n",
      "Enter your guess \n",
      "49\n",
      "Too low!\n",
      "Enter your guess \n",
      "77\n",
      "Too low!\n",
      "Enter your guess \n",
      "89\n",
      "Too high!\n",
      "Enter your guess \n",
      "86\n",
      "Too high!\n",
      "Enter your guess \n",
      "84\n",
      "You win!\n",
      "You solved it in  7  guesses\n"
     ]
    }
   ],
   "source": [
    "def guessNumber():\n",
    "    ''' Guessing game where the user guesses a number until he/she gets it right. Game will assist them by letting them know\n",
    "        if their guess is too high or too low. Once they get it right, it tells them how many guesses they got it right in! '''\n",
    "    print (\"I'm thinking of a number between 1 and 100\")\n",
    "    print (\"Can you guess what the number is?\")\n",
    "    n = random.randint(1,100)\n",
    "    guess = 0\n",
    "    i = 0\n",
    "    count = 0\n",
    "    if guess==n:\n",
    "        print (\"You win!\")\n",
    "        print (\"You solved it in \",count+1,\" guesses\")\n",
    "    while (guess!=n):\n",
    "        guess = int(input(\"Enter your guess \\n\"))\n",
    "        if (guess<1 or guess>100):\n",
    "            print (\"Enter a number between 1 and 100 ONLY!\")\n",
    "        if guess>n:\n",
    "            print (\"Too high!\")\n",
    "        elif guess<n:\n",
    "            print (\"Too low!\")\n",
    "        count+=1\n",
    "    print (\"You win!\")\n",
    "    print (\"You solved it in \",count,\" guesses\")\n",
    "\n",
    "guessNumber()"
   ]
  },
  {
   "cell_type": "markdown",
   "id": "4ca29eb4",
   "metadata": {},
   "source": [
    "EXTRA EXERCISES"
   ]
  },
  {
   "cell_type": "code",
   "execution_count": 47,
   "id": "9b49dd81",
   "metadata": {},
   "outputs": [
    {
     "name": "stdout",
     "output_type": "stream",
     "text": [
      "Please enter the year: 2016\n",
      "Please enter the month: 08\n",
      "Please enter the day: 23\n",
      "The next date is 2016-08-23\n"
     ]
    }
   ],
   "source": [
    "y = input(\"Please enter the year: \")\n",
    "m = input(\"Please enter the month: \")\n",
    "d = input(\"Please enter the day: \")\n",
    "def nextDate(y,m,d):\n",
    "    print(\"The next date is \",y,'-',m,'-',(d),sep = '')\n",
    "\n",
    "nextDate(\"2016\",\"08\",\"23\")"
   ]
  },
  {
   "cell_type": "code",
   "execution_count": 50,
   "id": "792f645c",
   "metadata": {},
   "outputs": [
    {
     "name": "stdout",
     "output_type": "stream",
     "text": [
      "\n",
      " 6 x 1 = 6\n",
      "\n",
      " 6 x 2 = 12\n",
      "\n",
      " 6 x 3 = 18\n",
      "\n",
      " 6 x 4 = 24\n",
      "\n",
      " 6 x 5 = 30\n",
      "\n",
      " 6 x 6 = 36\n",
      "\n",
      " 6 x 7 = 42\n",
      "\n",
      " 6 x 8 = 48\n",
      "\n",
      " 6 x 9 = 54\n",
      "\n",
      " 6 x 10 = 60\n"
     ]
    }
   ],
   "source": [
    "def mTable(n):\n",
    "    for i in range(1, 11):\n",
    "        print(\"\\n\",n,\"x\",i,\"=\",n * i)\n",
    "\n",
    "mTable(6)"
   ]
  },
  {
   "cell_type": "code",
   "execution_count": null,
   "id": "fb78e84f",
   "metadata": {},
   "outputs": [],
   "source": []
  }
 ],
 "metadata": {
  "kernelspec": {
   "display_name": "Python 3 (ipykernel)",
   "language": "python",
   "name": "python3"
  },
  "language_info": {
   "codemirror_mode": {
    "name": "ipython",
    "version": 3
   },
   "file_extension": ".py",
   "mimetype": "text/x-python",
   "name": "python",
   "nbconvert_exporter": "python",
   "pygments_lexer": "ipython3",
   "version": "3.9.7"
  }
 },
 "nbformat": 4,
 "nbformat_minor": 5
}
