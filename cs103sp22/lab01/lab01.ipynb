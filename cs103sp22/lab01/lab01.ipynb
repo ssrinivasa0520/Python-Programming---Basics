{
 "cells": [
  {
   "cell_type": "markdown",
   "id": "ca301722",
   "metadata": {},
   "source": [
    "lab01 Assignment"
   ]
  },
  {
   "cell_type": "markdown",
   "id": "ff75428f",
   "metadata": {},
   "source": [
    "Shreyas Srinivasa\n",
    "Blazer ID: ssriniva"
   ]
  },
  {
   "cell_type": "code",
   "execution_count": 10,
   "id": "2f53e53a",
   "metadata": {},
   "outputs": [
    {
     "ename": "SyntaxError",
     "evalue": "invalid character '“' (U+201C) (Temp/ipykernel_9352/3985837599.py, line 1)",
     "output_type": "error",
     "traceback": [
      "\u001b[1;36m  File \u001b[1;32m\"C:\\Users\\zoope\\AppData\\Local\\Temp/ipykernel_9352/3985837599.py\"\u001b[1;36m, line \u001b[1;32m1\u001b[0m\n\u001b[1;33m    print( “Hello World!” )\u001b[0m\n\u001b[1;37m           ^\u001b[0m\n\u001b[1;31mSyntaxError\u001b[0m\u001b[1;31m:\u001b[0m invalid character '“' (U+201C)\n"
     ]
    }
   ],
   "source": [
    "print( “Hello World!” )"
   ]
  },
  {
   "cell_type": "code",
   "execution_count": 11,
   "id": "e0f85cd7",
   "metadata": {},
   "outputs": [
    {
     "ename": "SyntaxError",
     "evalue": "invalid character '“' (U+201C) (Temp/ipykernel_9352/2384368442.py, line 1)",
     "output_type": "error",
     "traceback": [
      "\u001b[1;36m  File \u001b[1;32m\"C:\\Users\\zoope\\AppData\\Local\\Temp/ipykernel_9352/2384368442.py\"\u001b[1;36m, line \u001b[1;32m1\u001b[0m\n\u001b[1;33m    print( “Hello World!”)\u001b[0m\n\u001b[1;37m           ^\u001b[0m\n\u001b[1;31mSyntaxError\u001b[0m\u001b[1;31m:\u001b[0m invalid character '“' (U+201C)\n"
     ]
    }
   ],
   "source": [
    "print( “Hello World!”)"
   ]
  },
  {
   "cell_type": "code",
   "execution_count": 12,
   "id": "f64d54e2",
   "metadata": {},
   "outputs": [
    {
     "ename": "SyntaxError",
     "evalue": "invalid syntax (Temp/ipykernel_9352/2443755642.py, line 1)",
     "output_type": "error",
     "traceback": [
      "\u001b[1;36m  File \u001b[1;32m\"C:\\Users\\zoope\\AppData\\Local\\Temp/ipykernel_9352/2443755642.py\"\u001b[1;36m, line \u001b[1;32m1\u001b[0m\n\u001b[1;33m    print(Hello World!)\u001b[0m\n\u001b[1;37m                ^\u001b[0m\n\u001b[1;31mSyntaxError\u001b[0m\u001b[1;31m:\u001b[0m invalid syntax\n"
     ]
    }
   ],
   "source": [
    "print(Hello World!)"
   ]
  },
  {
   "cell_type": "code",
   "execution_count": 13,
   "id": "0280cb14",
   "metadata": {},
   "outputs": [
    {
     "name": "stdout",
     "output_type": "stream",
     "text": [
      "Hello World!\n"
     ]
    }
   ],
   "source": [
    "print (\"Hello World!\")"
   ]
  },
  {
   "cell_type": "code",
   "execution_count": 14,
   "id": "9e74cac7",
   "metadata": {},
   "outputs": [
    {
     "data": {
      "text/plain": [
       "6"
      ]
     },
     "execution_count": 14,
     "metadata": {},
     "output_type": "execute_result"
    }
   ],
   "source": [
    "5+1"
   ]
  },
  {
   "cell_type": "code",
   "execution_count": 15,
   "id": "e7a322e2",
   "metadata": {},
   "outputs": [
    {
     "data": {
      "text/plain": [
       "2048"
      ]
     },
     "execution_count": 15,
     "metadata": {},
     "output_type": "execute_result"
    }
   ],
   "source": [
    "32*64"
   ]
  },
  {
   "cell_type": "code",
   "execution_count": null,
   "id": "191c1e63",
   "metadata": {},
   "outputs": [],
   "source": []
  }
 ],
 "metadata": {
  "kernelspec": {
   "display_name": "Python 3 (ipykernel)",
   "language": "python",
   "name": "python3"
  },
  "language_info": {
   "codemirror_mode": {
    "name": "ipython",
    "version": 3
   },
   "file_extension": ".py",
   "mimetype": "text/x-python",
   "name": "python",
   "nbconvert_exporter": "python",
   "pygments_lexer": "ipython3",
   "version": "3.9.7"
  }
 },
 "nbformat": 4,
 "nbformat_minor": 5
}
