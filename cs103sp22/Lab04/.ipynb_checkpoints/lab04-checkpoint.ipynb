{
 "cells": [
  {
   "cell_type": "markdown",
   "id": "4fc6d172",
   "metadata": {},
   "source": [
    "LAB 04 CS 103 SPRING 2022"
   ]
  },
  {
   "cell_type": "markdown",
   "id": "8065f252",
   "metadata": {},
   "source": [
    "NAME: SHREYAS SRINIVASA"
   ]
  },
  {
   "cell_type": "markdown",
   "id": "8985b95d",
   "metadata": {},
   "source": [
    "BLAZER ID: SSRINIVA"
   ]
  },
  {
   "cell_type": "code",
   "execution_count": 17,
   "id": "7a9b2aa0",
   "metadata": {},
   "outputs": [
    {
     "name": "stdout",
     "output_type": "stream",
     "text": [
      "Mahmut Unan\n"
     ]
    }
   ],
   "source": [
    "def myName(firstName,lastName):\n",
    "    space= \" \"\n",
    "    fullName= firstName+space+lastName\n",
    "    return fullName\n",
    "\n",
    "print (myName(\"Mahmut\",\"Unan\"))"
   ]
  },
  {
   "cell_type": "code",
   "execution_count": 18,
   "id": "b673f934",
   "metadata": {},
   "outputs": [
    {
     "name": "stdout",
     "output_type": "stream",
     "text": [
      "100\n"
     ]
    }
   ],
   "source": [
    "def myAge(year):\n",
    "    age= 2022-year\n",
    "    return age\n",
    "\n",
    "print (myAge(1922))"
   ]
  },
  {
   "cell_type": "code",
   "execution_count": 19,
   "id": "4307db30",
   "metadata": {},
   "outputs": [
    {
     "name": "stdout",
     "output_type": "stream",
     "text": [
      "Computer Science\n",
      "Data Science\n",
      "Bioinformatics\n"
     ]
    }
   ],
   "source": [
    "def myDepartment(department):\n",
    "    if department == \"CS\":\n",
    "        return \"Computer Science\"\n",
    "    elif department == \"DS\":\n",
    "        return \"Data Science\"\n",
    "    elif department == \"BIF\":\n",
    "        return \"Bioinformatics\"\n",
    "\n",
    "print (myDepartment(\"CS\"))\n",
    "print (myDepartment(\"DS\"))\n",
    "print (myDepartment(\"BIF\"))"
   ]
  },
  {
   "cell_type": "code",
   "execution_count": 27,
   "id": "62ef31be",
   "metadata": {},
   "outputs": [
    {
     "name": "stdout",
     "output_type": "stream",
     "text": [
      "Hello there. My name is Mahmut Unan and I am 100 years old. I work in the Computer Science department\n"
     ]
    }
   ],
   "source": [
    "def whoAmI(firstName,lastName,year,department):\n",
    "    a= myName(firstName,lastName)\n",
    "    b= myAge(year)\n",
    "    c= myDepartment(department)\n",
    "    print (\"Hello there. My name is\", a,\"and I am\", b, \"years old. I work in the\", c, \"department\")\n",
    "\n",
    "whoAmI(\"Mahmut\",\"Unan\",1922,\"CS\")"
   ]
  },
  {
   "cell_type": "code",
   "execution_count": 29,
   "id": "c2a3983f",
   "metadata": {},
   "outputs": [
    {
     "name": "stdout",
     "output_type": "stream",
     "text": [
      "False\n"
     ]
    }
   ],
   "source": [
    "def squareOrNot(length,width):\n",
    "    if length==width:\n",
    "        return True\n",
    "    else:\n",
    "        return False\n",
    "    \n",
    "print (squareOrNot(20,5))"
   ]
  },
  {
   "cell_type": "code",
   "execution_count": 2,
   "id": "575510db",
   "metadata": {},
   "outputs": [
    {
     "name": "stdout",
     "output_type": "stream",
     "text": [
      "staggeringly\n",
      "targeting\n",
      "cs\n"
     ]
    }
   ],
   "source": [
    "def stringChanger(s):\n",
    "    if len(s)>=3:\n",
    "        if s[-3:]==\"ing\":\n",
    "            return s+\"ly\"\n",
    "        return s+\"ing\"\n",
    "    else:\n",
    "        return s\n",
    "\n",
    "print(stringChanger(\"staggering\"))\n",
    "print(stringChanger(\"target\"))\n",
    "print(stringChanger(\"cs\"))"
   ]
  },
  {
   "cell_type": "code",
   "execution_count": null,
   "id": "cbabdba9",
   "metadata": {},
   "outputs": [],
   "source": []
  }
 ],
 "metadata": {
  "kernelspec": {
   "display_name": "Python 3 (ipykernel)",
   "language": "python",
   "name": "python3"
  },
  "language_info": {
   "codemirror_mode": {
    "name": "ipython",
    "version": 3
   },
   "file_extension": ".py",
   "mimetype": "text/x-python",
   "name": "python",
   "nbconvert_exporter": "python",
   "pygments_lexer": "ipython3",
   "version": "3.9.7"
  }
 },
 "nbformat": 4,
 "nbformat_minor": 5
}
