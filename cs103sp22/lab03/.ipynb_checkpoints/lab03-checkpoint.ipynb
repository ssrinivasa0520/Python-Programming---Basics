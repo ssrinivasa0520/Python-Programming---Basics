{
 "cells": [
  {
   "cell_type": "code",
   "execution_count": 2,
   "id": "24e6e655",
   "metadata": {},
   "outputs": [
    {
     "name": "stdout",
     "output_type": "stream",
     "text": [
      "33.90239197530864\n"
     ]
    }
   ],
   "source": [
    "def bmiCalculator(wt,h):\n",
    "    bmi= wt*703/(h**2)\n",
    "    return bmi\n",
    "\n",
    "print (bmiCalculator(250,72))"
   ]
  },
  {
   "cell_type": "code",
   "execution_count": 5,
   "id": "0de3f61e",
   "metadata": {},
   "outputs": [
    {
     "name": "stdout",
     "output_type": "stream",
     "text": [
      "615\n"
     ]
    }
   ],
   "source": [
    "def nMultiplier(n):\n",
    "    ans= n*(1+11+111)\n",
    "    return ans\n",
    "\n",
    "print (nMultiplier(5))"
   ]
  },
  {
   "cell_type": "code",
   "execution_count": 20,
   "id": "ff59841b",
   "metadata": {},
   "outputs": [
    {
     "name": "stdout",
     "output_type": "stream",
     "text": [
      "False\n"
     ]
    }
   ],
   "source": [
    "def simpleGrader(average):\n",
    "    if average>=70: \n",
    "        return True\n",
    "    else:\n",
    "        return False\n",
    "    \n",
    "print (simpleGrader(68))"
   ]
  },
  {
   "cell_type": "code",
   "execution_count": 13,
   "id": "a5eb3b87",
   "metadata": {},
   "outputs": [
    {
     "name": "stdout",
     "output_type": "stream",
     "text": [
      "LAB3\n"
     ]
    }
   ],
   "source": [
    "def stringSlicer(s1):\n",
    "    return s1[-4:]\n",
    "\n",
    "print (stringSlicer(\"UAB CS103 LAB3\"))"
   ]
  },
  {
   "cell_type": "code",
   "execution_count": 19,
   "id": "e929be75",
   "metadata": {},
   "outputs": [
    {
     "name": "stdout",
     "output_type": "stream",
     "text": [
      "1.0471975511965976\n",
      "8.377580409572781\n",
      "18.84955592153876\n"
     ]
    }
   ],
   "source": [
    "import math\n",
    "def volCone(r,h):\n",
    "    volume= (1/3)*math.pi*(r**2)*h\n",
    "    return volume\n",
    "\n",
    "print (volCone(1,1))\n",
    "print (volCone(2,2))\n",
    "print (volCone(3,2))"
   ]
  },
  {
   "cell_type": "code",
   "execution_count": 24,
   "id": "99f84568",
   "metadata": {},
   "outputs": [
    {
     "name": "stdout",
     "output_type": "stream",
     "text": [
      "0.0\n",
      "5.0\n",
      "2.0\n"
     ]
    }
   ],
   "source": [
    "def distOrigin(x,y):\n",
    "    EUCdist = math.sqrt((x**2)+(y**2))\n",
    "    return EUCdist\n",
    "\n",
    "print (distOrigin(0,0))\n",
    "print (distOrigin(3,4)) \n",
    "print (distOrigin(0,2))"
   ]
  },
  {
   "cell_type": "code",
   "execution_count": null,
   "id": "c3d63408",
   "metadata": {},
   "outputs": [],
   "source": []
  }
 ],
 "metadata": {
  "kernelspec": {
   "display_name": "Python 3 (ipykernel)",
   "language": "python",
   "name": "python3"
  },
  "language_info": {
   "codemirror_mode": {
    "name": "ipython",
    "version": 3
   },
   "file_extension": ".py",
   "mimetype": "text/x-python",
   "name": "python",
   "nbconvert_exporter": "python",
   "pygments_lexer": "ipython3",
   "version": "3.9.7"
  }
 },
 "nbformat": 4,
 "nbformat_minor": 5
}
