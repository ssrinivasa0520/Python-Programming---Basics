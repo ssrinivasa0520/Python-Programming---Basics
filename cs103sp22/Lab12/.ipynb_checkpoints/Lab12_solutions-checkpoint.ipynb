{
 "cells": [
  {
   "cell_type": "markdown",
   "metadata": {},
   "source": [
    "## Shusma Kafle\n",
    "# shusma\n",
    "# lab12"
   ]
  },
  {
   "cell_type": "markdown",
   "metadata": {},
   "source": [
    "## EXERCISE 1:  "
   ]
  },
  {
   "cell_type": "code",
   "execution_count": 1,
   "metadata": {},
   "outputs": [
    {
     "name": "stdout",
     "output_type": "stream",
     "text": [
      "[22, 11, 34, 17, 52, 26, 13, 40, 20, 10, 5, 16, 8, 4, 2, 1]\n",
      "[3, 10, 5, 16, 8, 4, 2, 1]\n",
      "[10, 5, 16, 8, 4, 2, 1]\n"
     ]
    }
   ],
   "source": [
    "def hailstone(n2):\n",
    "    sequence=[]\n",
    "    while n2 != 1:\n",
    "        if n2 % 2 == 0:\n",
    "            n2 = n2//2\n",
    "        else: \n",
    "            n2 = (n2*3) + 1\n",
    "        sequence.append(n2)\n",
    "    print(sequence)\n",
    "        \n",
    "hailstone(7)\n",
    "hailstone(6)\n",
    "hailstone(3)"
   ]
  },
  {
   "cell_type": "markdown",
   "metadata": {},
   "source": [
    "## EXERCISE 2:  "
   ]
  },
  {
   "cell_type": "code",
   "execution_count": 2,
   "metadata": {},
   "outputs": [
    {
     "name": "stdout",
     "output_type": "stream",
     "text": [
      "{'FirstName': 'Mark', 'City': 'Palo Alto'}\n",
      "{'FirstName': 'Mark', 'LastName': 'Zuckerberg', 'City': 'Palo Alto'}\n"
     ]
    }
   ],
   "source": [
    "def keysTOremove(d1,l1):\n",
    "    for i in l1:\n",
    "        del d1[i]\n",
    "    return d1\n",
    "d1 = {\"FirstName\": \"Mark\", \"LastName\": \"Zuckerberg\", \"Salary\": 2000000,\"City\": \"Palo Alto\", \"Company\":\"Facebook\" }\n",
    "l1 = [\"Salary\", \"Company\",\"LastName\"]\n",
    "print(keysTOremove(d1,l1))\n",
    "d1 = {\"FirstName\": \"Mark\", \"LastName\": \"Zuckerberg\", \"Salary\": 2000000,\"City\": \"Palo Alto\", \"Company\":\"Facebook\" }\n",
    "l1 = [\"Salary\", \"Company\"]\n",
    "print(keysTOremove(d1,l1))"
   ]
  },
  {
   "cell_type": "markdown",
   "metadata": {},
   "source": [
    "## EXERCISE 3:  "
   ]
  },
  {
   "cell_type": "code",
   "execution_count": 3,
   "metadata": {},
   "outputs": [
    {
     "name": "stdout",
     "output_type": "stream",
     "text": [
      "70\n",
      "40\n"
     ]
    }
   ],
   "source": [
    "def animalLegs(d2):\n",
    "    Totallegs = 0 \n",
    "    for i in d2: \n",
    "        if i == \"chickens\": \n",
    "            Totallegs+=2*d2[i]\n",
    "        else:#we can do this because we have only 1 2 legs animals and rest is 4\n",
    "            Totallegs+=4*d2[i] \n",
    "    return Totallegs \n",
    "\n",
    "d1 = {\"chickens\":10, \"rabbits\":5} \n",
    "d2 = {\"dogs\":10, \"chickens\":5, \"cows\":5} \n",
    "print(animalLegs(d2))\n",
    "print(animalLegs(d1))"
   ]
  },
  {
   "cell_type": "code",
   "execution_count": null,
   "metadata": {},
   "outputs": [],
   "source": []
  }
 ],
 "metadata": {
  "kernelspec": {
   "display_name": "Python 3 (ipykernel)",
   "language": "python",
   "name": "python3"
  },
  "language_info": {
   "codemirror_mode": {
    "name": "ipython",
    "version": 3
   },
   "file_extension": ".py",
   "mimetype": "text/x-python",
   "name": "python",
   "nbconvert_exporter": "python",
   "pygments_lexer": "ipython3",
   "version": "3.9.7"
  }
 },
 "nbformat": 4,
 "nbformat_minor": 4
}
