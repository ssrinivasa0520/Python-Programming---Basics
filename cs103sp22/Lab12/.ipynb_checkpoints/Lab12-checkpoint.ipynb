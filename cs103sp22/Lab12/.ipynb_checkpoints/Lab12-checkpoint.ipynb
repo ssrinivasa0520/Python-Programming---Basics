{
 "cells": [
  {
   "cell_type": "markdown",
   "id": "1c1c4ae2",
   "metadata": {},
   "source": [
    "NAME: SHREYAS SRINIVASA"
   ]
  },
  {
   "cell_type": "markdown",
   "id": "0a40a351",
   "metadata": {},
   "source": [
    "BLAZER ID: SSRINIVA"
   ]
  },
  {
   "cell_type": "markdown",
   "id": "f4c6e3d3",
   "metadata": {},
   "source": [
    "CS 103 SPRING 2022"
   ]
  },
  {
   "cell_type": "markdown",
   "id": "5f8018de",
   "metadata": {},
   "source": [
    "LAB 12"
   ]
  },
  {
   "cell_type": "code",
   "execution_count": 6,
   "id": "80ab715f",
   "metadata": {},
   "outputs": [
    {
     "name": "stdout",
     "output_type": "stream",
     "text": [
      "10, 5, 16, 8, 4, 2, 1\n",
      "3, 10, 5, 16, 8, 4, 2, 1\n",
      "22, 11, 34, 17, 52, 26, 13, 40, 20, 10, 5, 16, 8, 4, 2, 1\n"
     ]
    }
   ],
   "source": [
    "def hailstone(n2):\n",
    "    seq=[]\n",
    "    while n2 != 1:\n",
    "        if n2 % 2 == 0:\n",
    "            n2 = n2//2\n",
    "        else: \n",
    "            n2 = (n2*3) + 1\n",
    "        seq.append(n2)\n",
    "    stringer = str(seq)[1:-1]\n",
    "    print(stringer)\n",
    "        \n",
    "\n",
    "hailstone(3)\n",
    "hailstone(6)\n",
    "hailstone(7)"
   ]
  },
  {
   "cell_type": "code",
   "execution_count": 19,
   "id": "425f393f",
   "metadata": {},
   "outputs": [
    {
     "name": "stdout",
     "output_type": "stream",
     "text": [
      "{\"FirstName\": \"Mark\", \"LastName\": \"Zuckerberg\", \"City\": \"Palo Alto\"}\n"
     ]
    }
   ],
   "source": [
    "import json\n",
    "def keysTOremove(d1,l1):\n",
    "    for j in l1:\n",
    "        del d1[j]\n",
    "    return json.dumps(d1)\n",
    "\n",
    "d1 = {\"FirstName\": \"Mark\", \"LastName\": \"Zuckerberg\", \"Salary\": 2000000,\"City\": \"Palo Alto\", \"Company\":\"Facebook\"}\n",
    "l1 = [\"Salary\", \"Company\"]\n",
    "print(keysTOremove(d1,l1))"
   ]
  },
  {
   "cell_type": "code",
   "execution_count": 22,
   "id": "414e26cd",
   "metadata": {},
   "outputs": [
    {
     "name": "stdout",
     "output_type": "stream",
     "text": [
      "40\n",
      "70\n"
     ]
    }
   ],
   "source": [
    "def animalLegs(d2):\n",
    "    Total = 0 \n",
    "    for j in d2: \n",
    "        if j == \"chickens\": \n",
    "            Total+=2*d2[j]\n",
    "        else:#we can do this because we have only 1 2 legs animals and rest is 4\n",
    "            Total+=4*d2[j] \n",
    "    return Total \n",
    "\n",
    "d1 = {\"chickens\":10, \"rabbits\":5} \n",
    "print(animalLegs(d1))\n",
    "d2 = {\"dogs\":10, \"chickens\":5, \"cows\":5} \n",
    "print(animalLegs(d2))"
   ]
  },
  {
   "cell_type": "code",
   "execution_count": null,
   "id": "5b0a2e7b",
   "metadata": {},
   "outputs": [],
   "source": []
  }
 ],
 "metadata": {
  "kernelspec": {
   "display_name": "Python 3 (ipykernel)",
   "language": "python",
   "name": "python3"
  },
  "language_info": {
   "codemirror_mode": {
    "name": "ipython",
    "version": 3
   },
   "file_extension": ".py",
   "mimetype": "text/x-python",
   "name": "python",
   "nbconvert_exporter": "python",
   "pygments_lexer": "ipython3",
   "version": "3.9.7"
  }
 },
 "nbformat": 4,
 "nbformat_minor": 5
}
