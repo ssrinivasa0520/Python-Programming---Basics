{
 "cells": [
  {
   "cell_type": "markdown",
   "metadata": {},
   "source": [
    "NAME: SHREYAS SRINIVASA"
   ]
  },
  {
   "cell_type": "markdown",
   "metadata": {},
   "source": [
    "BLAZER ID: SSRINIVA"
   ]
  },
  {
   "cell_type": "markdown",
   "metadata": {},
   "source": [
    "CS 103 SPRING 2022"
   ]
  },
  {
   "cell_type": "markdown",
   "metadata": {},
   "source": [
    "LAB 12"
   ]
  },
  {
   "cell_type": "code",
   "execution_count": 6,
   "metadata": {},
   "outputs": [
    {
     "name": "stdout",
     "output_type": "stream",
     "text": [
      "10, 5, 16, 8, 4, 2, 1\n",
      "3, 10, 5, 16, 8, 4, 2, 1\n",
      "22, 11, 34, 17, 52, 26, 13, 40, 20, 10, 5, 16, 8, 4, 2, 1\n"
     ]
    }
   ],
   "source": [
    "def hailstone(n2):\n",
    "    seq=[]\n",
    "    while n2 != 1:\n",
    "        if n2 % 2 == 0:\n",
    "            n2 = n2//2\n",
    "        else: \n",
    "            n2 = (n2*3) + 1\n",
    "        seq.append(n2)\n",
    "    stringer = str(seq)[1:-1]\n",
    "    print(stringer)\n",
    "        \n",
    "\n",
    "hailstone(3)\n",
    "hailstone(6)\n",
    "hailstone(7)"
   ]
  },
  {
   "cell_type": "code",
   "execution_count": 19,
   "metadata": {},
   "outputs": [
    {
     "name": "stdout",
     "output_type": "stream",
     "text": [
      "{\"FirstName\": \"Mark\", \"LastName\": \"Zuckerberg\", \"City\": \"Palo Alto\"}\n"
     ]
    }
   ],
   "source": [
    "import json\n",
    "def keysTOremove(d1,l1):\n",
    "    for j in l1:\n",
    "        del d1[j]\n",
    "    return json.dumps(d1)\n",
    "\n",
    "d1 = {\"FirstName\": \"Mark\", \"LastName\": \"Zuckerberg\", \"Salary\": 2000000,\"City\": \"Palo Alto\", \"Company\":\"Facebook\"}\n",
    "l1 = [\"Salary\", \"Company\"]\n",
    "print(keysTOremove(d1,l1))"
   ]
  },
  {
   "cell_type": "code",
   "execution_count": 22,
   "metadata": {},
   "outputs": [
    {
     "name": "stdout",
     "output_type": "stream",
     "text": [
      "40\n",
      "70\n"
     ]
    }
   ],
   "source": [
    "def animalLegs(d2):\n",
    "    Total = 0 \n",
    "    for j in d2: \n",
    "        if j == \"chickens\": \n",
    "            Total+=2*d2[j]\n",
    "        else:#we can do this because we have only 1 2 legs animals and rest is 4\n",
    "            Total+=4*d2[j] \n",
    "    return Total \n",
    "\n",
    "d1 = {\"chickens\":10, \"rabbits\":5} \n",
    "print(animalLegs(d1))\n",
    "d2 = {\"dogs\":10, \"chickens\":5, \"cows\":5} \n",
    "print(animalLegs(d2))"
   ]
  },
  {
   "cell_type": "code",
   "execution_count": 2,
   "metadata": {},
   "outputs": [
    {
     "data": {
      "text/plain": [
       "(11, -41, 9, 62.27, 631, 7)"
      ]
     },
     "execution_count": 2,
     "metadata": {},
     "output_type": "execute_result"
    }
   ],
   "source": [
    "def listDetails(L):\n",
    "    min_v = min(L)\n",
    "    max_v = max(L)\n",
    "    n = len(L)\n",
    "    mean = round(sum(L) / n, 2)\n",
    "    min_i = L.index(min_v)\n",
    "    max_i = L.index(max_v)\n",
    "    return (n, min_v, min_i, mean, max_v, max_i)\n",
    "\n",
    "L = [-8, -23, 18, 103, 0, 1, -4, 631, 3, -41, 5]\n",
    "listDetails(L)"
   ]
  },
  {
   "cell_type": "code",
   "execution_count": 18,
   "metadata": {},
   "outputs": [
    {
     "name": "stdout",
     "output_type": "stream",
     "text": [
      "[0, 4]\n"
     ]
    }
   ],
   "source": [
    "import math\n",
    "def minSum(L2):\n",
    "    n1 = n2 = math.inf\n",
    "    n1i = n2i = 0\n",
    "    for i in range(len(L2)):\n",
    "        e = L2[i]\n",
    "        if(e < n1):\n",
    "            n2, n2i, n1, n1i = n1, n1i, e, i\n",
    "        elif(e < n2):\n",
    "            n2, n2i = e, i\n",
    "    return [n1i, n2i]\n",
    "\n",
    "L2 = [2,78,9,21,4,99]\n",
    "print(minSum(L2))"
   ]
  }
 ],
 "metadata": {
  "kernelspec": {
   "display_name": "Python 3",
   "language": "python",
   "name": "python3"
  },
  "language_info": {
   "codemirror_mode": {
    "name": "ipython",
    "version": 3
   },
   "file_extension": ".py",
   "mimetype": "text/x-python",
   "name": "python",
   "nbconvert_exporter": "python",
   "pygments_lexer": "ipython3",
   "version": "3.8.10"
  }
 },
 "nbformat": 4,
 "nbformat_minor": 5
}
