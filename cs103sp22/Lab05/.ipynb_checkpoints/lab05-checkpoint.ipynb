{
 "cells": [
  {
   "cell_type": "markdown",
   "id": "1a740662",
   "metadata": {},
   "source": [
    "CS 103 SPRING 2022 LAB 05"
   ]
  },
  {
   "cell_type": "markdown",
   "id": "3adaad98",
   "metadata": {},
   "source": [
    "NAME - SHREYAS SRINIVASA"
   ]
  },
  {
   "cell_type": "markdown",
   "id": "6128fe9a",
   "metadata": {},
   "source": [
    "BLAZER ID - SSRINIVA"
   ]
  },
  {
   "cell_type": "code",
   "execution_count": 6,
   "id": "e29ef543",
   "metadata": {},
   "outputs": [
    {
     "name": "stdout",
     "output_type": "stream",
     "text": [
      "0 2 4 6 8 10 12 "
     ]
    }
   ],
   "source": [
    "import math\n",
    "def evenNumbers(x):\n",
    "    for a in range(0,x+1):\n",
    "        if (a%2==0):\n",
    "            print (a, end=\" \")\n",
    "        \n",
    "evenNumbers(12)"
   ]
  },
  {
   "cell_type": "code",
   "execution_count": 7,
   "id": "55aa9175",
   "metadata": {},
   "outputs": [
    {
     "name": "stdout",
     "output_type": "stream",
     "text": [
      "720\n"
     ]
    }
   ],
   "source": [
    "def factorial(f):\n",
    "    if f < 0:\n",
    "        return 0\n",
    "    elif f == 0 or f == 1:\n",
    "        return 1\n",
    "    else:\n",
    "        fact = 1\n",
    "        while(f > 1):\n",
    "            fact *= f\n",
    "            f -= 1\n",
    "        return fact\n",
    "\n",
    "print (factorial(6))"
   ]
  },
  {
   "cell_type": "code",
   "execution_count": 27,
   "id": "53711787",
   "metadata": {},
   "outputs": [
    {
     "name": "stdout",
     "output_type": "stream",
     "text": [
      "Random Number:  7\n",
      "Random Number:  10\n",
      "Random Number:  7\n",
      "Random Number:  0\n",
      "Random Number:  2\n",
      "The average of these random numbers is  5.2\n",
      "Random Number:  5\n",
      "Random Number:  3\n",
      "Random Number:  1\n",
      "The average of these random numbers is  3.0\n"
     ]
    }
   ],
   "source": [
    "import random\n",
    "def randNumbers(r):\n",
    "    sum=0\n",
    "    for i in range(0,r):\n",
    "        n = random.randint(0,10)\n",
    "        print (\"Random Number: \",n)\n",
    "        sum+=n\n",
    "    print (\"The average of these random numbers is \",(sum/r))\n",
    "\n",
    "randNumbers(5)\n",
    "randNumbers(3)"
   ]
  },
  {
   "cell_type": "code",
   "execution_count": 28,
   "id": "ba09e985",
   "metadata": {},
   "outputs": [
    {
     "name": "stdout",
     "output_type": "stream",
     "text": [
      "91 93 95 97 99 "
     ]
    }
   ],
   "source": [
    "def oddNumbers(x):\n",
    "    for a in range(x,99):\n",
    "        if (a%2==0):\n",
    "            print ((a+1), end=\" \")\n",
    "            \n",
    "oddNumbers(90)"
   ]
  },
  {
   "cell_type": "code",
   "execution_count": 34,
   "id": "a7449c38",
   "metadata": {},
   "outputs": [
    {
     "name": "stdout",
     "output_type": "stream",
     "text": [
      "0 1 1 2 3 5 8 13 21 34 "
     ]
    }
   ],
   "source": [
    "def fibonacci(n):\n",
    "    f=0             #first element                            \n",
    "    s=1             #second element                            \n",
    "    if n<=0:\n",
    "        print(f)\n",
    "    else:\n",
    "        print(f,s,end=\" \")\n",
    "    for x in range(2,n):\n",
    "        next=f+s                           \n",
    "        print(next,end=\" \")\n",
    "        f=s\n",
    "        s=next\n",
    "\n",
    "fibonacci(10)   "
   ]
  },
  {
   "cell_type": "code",
   "execution_count": null,
   "id": "d04a9950",
   "metadata": {},
   "outputs": [],
   "source": []
  }
 ],
 "metadata": {
  "kernelspec": {
   "display_name": "Python 3 (ipykernel)",
   "language": "python",
   "name": "python3"
  },
  "language_info": {
   "codemirror_mode": {
    "name": "ipython",
    "version": 3
   },
   "file_extension": ".py",
   "mimetype": "text/x-python",
   "name": "python",
   "nbconvert_exporter": "python",
   "pygments_lexer": "ipython3",
   "version": "3.9.7"
  }
 },
 "nbformat": 4,
 "nbformat_minor": 5
}
