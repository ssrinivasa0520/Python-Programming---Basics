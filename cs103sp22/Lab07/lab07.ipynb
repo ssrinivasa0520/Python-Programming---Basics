{
 "cells": [
  {
   "cell_type": "markdown",
   "id": "b74a26c5",
   "metadata": {},
   "source": [
    "CS 103 SPRING 2022"
   ]
  },
  {
   "cell_type": "markdown",
   "id": "fc9bb20a",
   "metadata": {},
   "source": [
    "LAB 07"
   ]
  },
  {
   "cell_type": "markdown",
   "id": "7880f4fb",
   "metadata": {},
   "source": [
    "NAME: SHREYAS SRINIVASA"
   ]
  },
  {
   "cell_type": "markdown",
   "id": "856a7489",
   "metadata": {},
   "source": [
    "BLAZER ID: SSRINIVA"
   ]
  },
  {
   "cell_type": "code",
   "execution_count": 8,
   "id": "0a437427",
   "metadata": {},
   "outputs": [
    {
     "name": "stdout",
     "output_type": "stream",
     "text": [
      "For item  1\n",
      "Enter the price: 10\n",
      "Enter the tax rate: 0\n",
      "For item  2\n",
      "Enter the price: 20\n",
      "Enter the tax rate: 8\n",
      "Your total price is  31.6\n"
     ]
    }
   ],
   "source": [
    "import math\n",
    "import random\n",
    "def cashier(c):\n",
    "    i=1\n",
    "    Final_price = 0.0\n",
    "    Total_price = 0.0\n",
    "    if c==0:\n",
    "        print(\"You have no items, go get something to check out.\")\n",
    "    while (i<=c):\n",
    "        print (\"For item \",i)\n",
    "        price = int(input(\"Enter the price: \"))\n",
    "        tax_rate = int(input(\"Enter the tax rate: \"))\n",
    "        if tax_rate==0:\n",
    "            Final_price = price\n",
    "        else:\n",
    "            Final_price = (price + ((tax_rate/100.0)*price))\n",
    "        i+=1\n",
    "        Total_price= Total_price+Final_price\n",
    "    print (\"Your total price is \",Total_price)\n",
    "\n",
    "cashier(2)"
   ]
  },
  {
   "cell_type": "code",
   "execution_count": 9,
   "id": "15788bc2",
   "metadata": {},
   "outputs": [
    {
     "name": "stdout",
     "output_type": "stream",
     "text": [
      "For item  1\n",
      "Enter the price: 100\n",
      "Enter the tax rate: 8\n",
      "For item  2\n",
      "Enter the price: 20\n",
      "Enter the tax rate: 0\n",
      "For item  3\n",
      "Enter the price: 40\n",
      "Enter the tax rate: 8\n",
      "Your total price is  171.2\n"
     ]
    }
   ],
   "source": [
    "cashier(3)"
   ]
  },
  {
   "cell_type": "code",
   "execution_count": 20,
   "id": "42a160c1",
   "metadata": {},
   "outputs": [
    {
     "name": "stdout",
     "output_type": "stream",
     "text": [
      "*\n",
      "\n",
      "**\n",
      "\n",
      "***\n",
      "\n",
      "****\n",
      "\n",
      "*****\n",
      "\n",
      "******\n",
      "\n",
      "*******\n",
      "\n"
     ]
    }
   ],
   "source": [
    "def starLine(n):\n",
    "    i=1\n",
    "    j=1\n",
    "    if n<=0:\n",
    "        print (\"No stars for you!\")\n",
    "        print (\"Please enter a positive integer.\")\n",
    "    for i in range(1,(n+1)):\n",
    "        for j in range(1,(i+1)):\n",
    "            print (\"*\",end = \"\")\n",
    "        print(\"\\n\")\n",
    "\n",
    "starLine(7)"
   ]
  },
  {
   "cell_type": "code",
   "execution_count": 21,
   "id": "87f0172b",
   "metadata": {},
   "outputs": [
    {
     "name": "stdout",
     "output_type": "stream",
     "text": [
      "*\n",
      "\n",
      "**\n",
      "\n",
      "***\n",
      "\n"
     ]
    }
   ],
   "source": [
    "starLine(3)"
   ]
  },
  {
   "cell_type": "code",
   "execution_count": 22,
   "id": "a000e11a",
   "metadata": {},
   "outputs": [
    {
     "name": "stdout",
     "output_type": "stream",
     "text": [
      "*\n",
      "\n"
     ]
    }
   ],
   "source": [
    "starLine(1)"
   ]
  },
  {
   "cell_type": "code",
   "execution_count": 52,
   "id": "8f2d452d",
   "metadata": {},
   "outputs": [
    {
     "name": "stdout",
     "output_type": "stream",
     "text": [
      "a x\n",
      "\n",
      "b y\n",
      "\n",
      "c z\n",
      "\n"
     ]
    }
   ],
   "source": [
    "def stringPair(s1,s2):\n",
    "    j = 0\n",
    "    for i in s1:\n",
    "        print(s1[j],\"\"+s2[j])\n",
    "        j+=1\n",
    "        print()\n",
    "\n",
    "stringPair(\"abc\",\"xyz\")"
   ]
  },
  {
   "cell_type": "code",
   "execution_count": 53,
   "id": "dc63d70e",
   "metadata": {},
   "outputs": [
    {
     "name": "stdout",
     "output_type": "stream",
     "text": [
      "p i\n",
      "\n",
      "m u\n",
      "\n",
      "t e\n",
      "\n",
      "n a\n",
      "\n"
     ]
    }
   ],
   "source": [
    "stringPair(\"pmtn\",\"iuea\")"
   ]
  },
  {
   "cell_type": "code",
   "execution_count": 92,
   "id": "b4c3e1f7",
   "metadata": {},
   "outputs": [
    {
     "name": "stdout",
     "output_type": "stream",
     "text": [
      "3\n"
     ]
    }
   ],
   "source": [
    "def smallestSum(L1,L2):\n",
    "    \"\"\"This program prints the smallest sum for corresponding entries in two lists of the same size.\"\"\"\n",
    "    if len(L1)!=len(L2):\n",
    "        print (\"You must enter two lists of the same length!\")\n",
    "    j = 0\n",
    "    count = []\n",
    "    holder = []\n",
    "    for i in L1:\n",
    "        holder = [L1[j]+L2[j]]\n",
    "        j+=1\n",
    "        count = count+holder\n",
    "    print (min(count))\n",
    "\n",
    "smallestSum([0,1,8,12,65,34534],[120,2,4,55,323,12])"
   ]
  },
  {
   "cell_type": "code",
   "execution_count": 107,
   "id": "12983e25",
   "metadata": {},
   "outputs": [
    {
     "name": "stdout",
     "output_type": "stream",
     "text": [
      "uab019\n"
     ]
    }
   ],
   "source": [
    "def stringBlenders(s1):\n",
    "    '''Takes a string and returns the first 3 and last 3 characters. If string has less than 3 characters, it returns an\n",
    "       empty string'''\n",
    "    if len(s1)<3:\n",
    "        print ('\"\"')\n",
    "    else:\n",
    "        firstandlast = s1[0:3]+s1[-3:]\n",
    "        print (firstandlast)\n",
    "\n",
    "stringBlenders(\"uabcs2019\")"
   ]
  },
  {
   "cell_type": "code",
   "execution_count": 105,
   "id": "815bb4b1",
   "metadata": {},
   "outputs": [
    {
     "name": "stdout",
     "output_type": "stream",
     "text": [
      "uabuab\n"
     ]
    }
   ],
   "source": [
    "stringBlenders(\"uab\")"
   ]
  },
  {
   "cell_type": "code",
   "execution_count": 106,
   "id": "fd5ba5d0",
   "metadata": {},
   "outputs": [
    {
     "name": "stdout",
     "output_type": "stream",
     "text": [
      "\"\"\n"
     ]
    }
   ],
   "source": [
    "stringBlenders(\"ua\")"
   ]
  },
  {
   "cell_type": "code",
   "execution_count": null,
   "id": "4302a797",
   "metadata": {},
   "outputs": [],
   "source": []
  }
 ],
 "metadata": {
  "kernelspec": {
   "display_name": "Python 3 (ipykernel)",
   "language": "python",
   "name": "python3"
  },
  "language_info": {
   "codemirror_mode": {
    "name": "ipython",
    "version": 3
   },
   "file_extension": ".py",
   "mimetype": "text/x-python",
   "name": "python",
   "nbconvert_exporter": "python",
   "pygments_lexer": "ipython3",
   "version": "3.9.7"
  }
 },
 "nbformat": 4,
 "nbformat_minor": 5
}
