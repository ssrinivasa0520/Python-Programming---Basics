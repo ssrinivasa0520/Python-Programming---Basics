{
 "cells": [
  {
   "cell_type": "markdown",
   "id": "be58c120",
   "metadata": {},
   "source": [
    "# shusma kafle\n",
    "## shusma\n",
    "## lab9"
   ]
  },
  {
   "cell_type": "code",
   "execution_count": 1,
   "id": "b937322e",
   "metadata": {},
   "outputs": [],
   "source": [
    "'''\n",
    "    NOTES! :)\n",
    "    1. You'll have to restart your kernel everytime you run Turtle graphics.\n",
    "    2. No docstrings required for this lab, but it's good form to include them, anyways!\n",
    "'''"
   ]
  },
  {
   "cell_type": "markdown",
   "id": "135b86eb",
   "metadata": {},
   "source": [
    "### Exercise 1"
   ]
  },
  {
   "cell_type": "code",
   "execution_count": 2,
   "id": "ffa803c7",
   "metadata": {},
   "outputs": [],
   "source": [
    "def isSorted(L):\n",
    "    sort=sorted(L)\n",
    "    revSort=sorted(L,reverse=True)\n",
    "    if sort==L or revSort ==L:\n",
    "        print(\"Sorted\")\n",
    "    else:\n",
    "        print(\"Unsorted\")"
   ]
  },
  {
   "cell_type": "code",
   "execution_count": 3,
   "id": "5082a224",
   "metadata": {},
   "outputs": [],
   "source": [
    "L=[30,5,2,100]\n",
    "isSorted(L)"
   ]
  },
  {
   "cell_type": "code",
   "execution_count": 4,
   "id": "d177f969",
   "metadata": {},
   "outputs": [],
   "source": [
    "L2=[26,8,6,2,1]\n",
    "isSorted(L2)"
   ]
  },
  {
   "cell_type": "markdown",
   "id": "32071ff9",
   "metadata": {},
   "source": [
    "### Exercise 2"
   ]
  },
  {
   "cell_type": "code",
   "execution_count": 5,
   "id": "fd6e813b",
   "metadata": {},
   "outputs": [],
   "source": [
    "#taken from the lecture notes\n",
    "def factorial(n):\n",
    "    assert n>=1 and type(n)==int\n",
    "    if n==1:\n",
    "        return 1\n",
    "    else:\n",
    "        return n * factorial(n-1)"
   ]
  },
  {
   "cell_type": "code",
   "execution_count": 6,
   "id": "5791ebb9",
   "metadata": {},
   "outputs": [
    {
     "data": {
      "text/plain": [
       "120"
      ]
     },
     "execution_count": 6,
     "metadata": {},
     "output_type": "execute_result"
    }
   ],
   "source": [
    "factorial(5)"
   ]
  },
  {
   "cell_type": "markdown",
   "id": "b1b4a79f",
   "metadata": {},
   "source": [
    "### Exercise 3"
   ]
  },
  {
   "cell_type": "code",
   "execution_count": 7,
   "id": "2e5fd8b3",
   "metadata": {},
   "outputs": [],
   "source": [
    "def fChecker():\n",
    "    fo = open('inputfile.txt', 'r')\n",
    "    lines = fo.readlines()\n",
    "    num_of_lines = len(lines)\n",
    "    for i in range(num_of_lines):\n",
    "        lines[i] = lines[i].strip()\n",
    "    firstname=lines[0]\n",
    "    lastname=lines[1]\n",
    "    age = int(lines[2]) + 5\n",
    "    return f\"Hello, {firstname} {lastname}. You will be {age} in 5 years.\""
   ]
  },
  {
   "cell_type": "code",
   "execution_count": 8,
   "id": "d1df93a1",
   "metadata": {},
   "outputs": [
    {
     "name": "stdout",
     "output_type": "stream",
     "text": [
      "Hello, Mahmut Unan. You will be 70 in 5 years.\n"
     ]
    }
   ],
   "source": [
    "print(fChecker())"
   ]
  }
 ],
 "metadata": {
  "kernelspec": {
   "display_name": "Python 3",
   "language": "python",
   "name": "python3"
  },
  "language_info": {
   "codemirror_mode": {
    "name": "ipython",
    "version": 3
   },
   "file_extension": ".py",
   "mimetype": "text/x-python",
   "name": "python",
   "nbconvert_exporter": "python",
   "pygments_lexer": "ipython3",
   "version": "3.8.8"
  }
 },
 "nbformat": 4,
 "nbformat_minor": 5
}
