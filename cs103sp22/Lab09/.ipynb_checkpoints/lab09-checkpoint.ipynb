{
 "cells": [
  {
   "cell_type": "markdown",
   "id": "543dcfc9",
   "metadata": {},
   "source": [
    "# LAB09, CS103 Spring 2022\n",
    "# name: SHREYAS SRINIVASA\n",
    "# blazerid: SSRINIVA"
   ]
  },
  {
   "cell_type": "code",
   "execution_count": 6,
   "id": "86438762",
   "metadata": {},
   "outputs": [
    {
     "name": "stdout",
     "output_type": "stream",
     "text": [
      "Sorted\n"
     ]
    }
   ],
   "source": [
    "import math\n",
    "import random\n",
    "def isSorted(L):\n",
    "    j = 0\n",
    "    i = 1\n",
    "    k = 0\n",
    "    m = 1\n",
    "    while i < len(L):\n",
    "        if(L[i] < L[i - 1]):\n",
    "            j = 1\n",
    "        i += 1\n",
    "    while m < len(L):\n",
    "        if(L[m] > L[m - 1]):\n",
    "            k = 1\n",
    "        m += 1\n",
    "      \n",
    "    # printing result\n",
    "    if (not k or not j):\n",
    "        print (\"Sorted\")\n",
    "    else:\n",
    "        print (\"Unsorted\")\n",
    "        \n",
    "isSorted([26,8,6,2,1])"
   ]
  },
  {
   "cell_type": "code",
   "execution_count": 7,
   "id": "b03cb316",
   "metadata": {},
   "outputs": [
    {
     "data": {
      "text/plain": [
       "120"
      ]
     },
     "execution_count": 7,
     "metadata": {},
     "output_type": "execute_result"
    }
   ],
   "source": [
    "def factorial(n):\n",
    "    if n < 0:\n",
    "        print (\"Factorial does not exist for negative numbers!\")\n",
    "    elif n == 0:\n",
    "        print (\"1\")\n",
    "    elif n == 1:\n",
    "        return n\n",
    "    else:\n",
    "        return n*factorial(n-1)\n",
    "\n",
    "factorial(5)"
   ]
  },
  {
   "cell_type": "code",
   "execution_count": 14,
   "id": "9b78fb05",
   "metadata": {},
   "outputs": [
    {
     "name": "stdout",
     "output_type": "stream",
     "text": [
      "Hello, Mahmut Unan. You will be 70 years old in 5 years.\n"
     ]
    }
   ],
   "source": [
    "def fChecker():\n",
    "    name = \"\"\n",
    "    with open(\"inputFile.txt\") as f:\n",
    "        lines = f.read()\n",
    "        first = lines.split('\\n')[0]\n",
    "        second = lines.split('\\n')[1]\n",
    "        third = lines.split('\\n')[2]\n",
    "        name = first+\" \"+second+\".\"\n",
    "\n",
    "    print(\"Hello,\",name,\"You will be\",int(third)+5,\"years old in 5 years.\")\n",
    "\n",
    "fChecker()"
   ]
  },
  {
   "cell_type": "code",
   "execution_count": 9,
   "id": "a226f00a",
   "metadata": {},
   "outputs": [],
   "source": [
    "import turtle\n",
    "from turtle import*\n",
    "def tPolygon(n):\n",
    "    turtle.TurtleScreen._RUNNING=True\n",
    "    if n & 1:\n",
    "        turtle.pencolor('black')\n",
    "    else:\n",
    "        turtle.pencolor('blue')\n",
    "    turtle.pensize(3)\n",
    "    side_length = n ** 2\n",
    "    interior_angle = ((n - 2) * 180) / n\n",
    "    for i in range(n):\n",
    "        turtle.forward(side_length)\n",
    "        turtle.left(180 - interior_angle)\n",
    "    turtle.done()\n",
    "tPolygon(5)"
   ]
  },
  {
   "cell_type": "code",
   "execution_count": 11,
   "id": "1eb12f3f",
   "metadata": {},
   "outputs": [
    {
     "name": "stdout",
     "output_type": "stream",
     "text": [
      "The triangle is valid.\n",
      "It is a scalene triangle.\n"
     ]
    }
   ],
   "source": [
    "def triangleChecker():\n",
    "    with open('triangle.txt') as file:\n",
    "        a, b, c = map(int, file.readlines())\n",
    "    if a + b >= c and b + c >= a and a + c >= b:\n",
    "        answer = 'valid'\n",
    "    else:\n",
    "        answer = 'invalid'\n",
    "    print('The triangle is {}.'.format(answer))\n",
    "    if answer == 'valid':\n",
    "        if a == b and b == c:\n",
    "            ttype = 'an equilateral'\n",
    "        elif a == b or b == c or a == c:\n",
    "            ttype = 'an isoceles'\n",
    "        else:\n",
    "            ttype = 'a scalene'\n",
    "        print('It is {} triangle.'.format(ttype))\n",
    "triangleChecker()"
   ]
  },
  {
   "cell_type": "code",
   "execution_count": null,
   "id": "9aa143c7",
   "metadata": {},
   "outputs": [],
   "source": []
  }
 ],
 "metadata": {
  "kernelspec": {
   "display_name": "Python 3 (ipykernel)",
   "language": "python",
   "name": "python3"
  },
  "language_info": {
   "codemirror_mode": {
    "name": "ipython",
    "version": 3
   },
   "file_extension": ".py",
   "mimetype": "text/x-python",
   "name": "python",
   "nbconvert_exporter": "python",
   "pygments_lexer": "ipython3",
   "version": "3.9.7"
  }
 },
 "nbformat": 4,
 "nbformat_minor": 5
}
