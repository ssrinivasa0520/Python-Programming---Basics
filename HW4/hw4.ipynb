{
 "cells": [
  {
   "cell_type": "markdown",
   "metadata": {},
   "source": [
    "# HW4, CS103 Spring 2022\n",
    "# name: SHREYAS SRINIVASA\n",
    "# blazerid: SSRINIVA"
   ]
  },
  {
   "cell_type": "code",
   "execution_count": 1,
   "metadata": {},
   "outputs": [],
   "source": [
    "def myName():\n",
    "    return \"Shreyas Srinivasa\"\n",
    "def myBlazerID():\n",
    "    return \"SSRINIVA\""
   ]
  },
  {
   "cell_type": "code",
   "execution_count": 2,
   "metadata": {},
   "outputs": [
    {
     "name": "stdout",
     "output_type": "stream",
     "text": [
      "My Name is = Shreyas Srinivasa  and my BlazerId is = SSRINIVA\n"
     ]
    }
   ],
   "source": [
    "print(\"My Name is =\", myName(), \" and my BlazerId is =\",myBlazerID())"
   ]
  },
  {
   "cell_type": "code",
   "execution_count": 3,
   "metadata": {},
   "outputs": [],
   "source": [
    "def read_data(filename):\n",
    "    \"\"\"Function to read student csv data\"\"\"\n",
    "    import csv\n",
    "    with open(filename, mode='r', encoding='utf-8-sig') as csv_file:\n",
    "        line_count = 0\n",
    "        csv_reader = csv.reader(csv_file)\n",
    "        data = []\n",
    "        field_names = []\n",
    "        for row in csv_reader:\n",
    "            if not line_count:\n",
    "                field_names = list(map(str.strip, row))\n",
    "            else:\n",
    "                data.append(dict(zip(field_names, row)))\n",
    "            line_count += 1\n",
    "    return data"
   ]
  },
  {
   "cell_type": "code",
   "execution_count": 4,
   "metadata": {},
   "outputs": [],
   "source": [
    "def display_advisors(filename):\n",
    "    \"\"\"Function to display all advisors\"\"\"\n",
    "    data = read_data(filename)\n",
    "    advisors = set()\n",
    "    for row in data:\n",
    "        advisors.add(row['Advisor'])\n",
    "    print(\"Advisors:\\n\")\n",
    "    for advisor in advisors:\n",
    "        print(advisor)"
   ]
  },
  {
   "cell_type": "code",
   "execution_count": 5,
   "metadata": {},
   "outputs": [],
   "source": [
    "def display_low_students(filename):\n",
    "    \"\"\"Function to display the full names of the students having the lowest GPA\"\"\"\n",
    "    data = read_data(filename)\n",
    "    lowest_gpa = min([row['GPA'] for row in data])\n",
    "    students = [row['First Name'] for row in data if row['GPA'] == lowest_gpa]\n",
    "    print(\"Students with the lowest GPA:\\n\")\n",
    "    for student in students:\n",
    "        print(student)"
   ]
  },
  {
   "cell_type": "code",
   "execution_count": 6,
   "metadata": {},
   "outputs": [],
   "source": [
    "def avg_credit_hrs(dept, filename):\n",
    "    \"\"\"Function to display the average credit hours of a department\"\"\"\n",
    "    data = read_data(filename)\n",
    "    dept_credit_hrs = [float(row['Credit Hours']) for row in data if row['Major'] == dept]\n",
    "    print(\"Average {} Credit Hours: {}\".format(dept, sum(dept_credit_hrs) / len(dept_credit_hrs)))"
   ]
  },
  {
   "cell_type": "code",
   "execution_count": 7,
   "metadata": {},
   "outputs": [],
   "source": [
    "def advisor_student_info(advisor, filename):\n",
    "    \"\"\"Function to find out the average GPA of the students for an advisor and whether they are TA\"\"\"\n",
    "    data = read_data(filename)\n",
    "    advisor_students = [row for row in data if row['Advisor'] == advisor]\n",
    "    advisor_gpas = [float(row['GPA']) for row in data]\n",
    "    print(\"Average GPA of {} students: {} \\n\".format(advisor, round(sum(advisor_gpas) / len(advisor_gpas), 2)))\n",
    "    print('{:15} {:15}{:3}\\n'.format('First Name', 'Last Name', 'TA'))\n",
    "    for student in advisor_students:\n",
    "        print('{:15} {:15}{:3}'.format(student['First Name'], student['Last Name'], student['TA']))"
   ]
  },
  {
   "cell_type": "code",
   "execution_count": 8,
   "metadata": {},
   "outputs": [],
   "source": [
    "def total_students_in_depts(filename):\n",
    "    \"\"\"Function to find the total students in all departments\"\"\"\n",
    "    from collections import defaultdict\n",
    "    data = read_data(filename)\n",
    "    tot_students = defaultdict(int)\n",
    "    depts = set()\n",
    "    for row in data:\n",
    "        dept = row['Major']\n",
    "        tot_students[dept] += 1\n",
    "        depts.add(dept)\n",
    "    print(\"{:20}{}\\n\".format(\"Department\", \"No. of students\"))\n",
    "    for dept in depts:\n",
    "        print(\"{:20} {:3}\".format(dept, tot_students[dept]))"
   ]
  },
  {
   "cell_type": "code",
   "execution_count": 9,
   "metadata": {},
   "outputs": [
    {
     "name": "stdout",
     "output_type": "stream",
     "text": [
      "Advisors:\n",
      "\n",
      "Jean Grey\n",
      "John Smith\n",
      "James Bond\n",
      "Bruce Wayne\n",
      "Jane Doe\n"
     ]
    }
   ],
   "source": [
    "filename = 'students_dataset.csv'\n",
    "display_advisors(filename)"
   ]
  },
  {
   "cell_type": "code",
   "execution_count": 10,
   "metadata": {},
   "outputs": [
    {
     "name": "stdout",
     "output_type": "stream",
     "text": [
      "Students with the lowest GPA:\n",
      "\n",
      "Hilda\n"
     ]
    }
   ],
   "source": [
    "filename = 'students_dataset.csv'\n",
    "display_low_students(filename)"
   ]
  },
  {
   "cell_type": "code",
   "execution_count": 11,
   "metadata": {},
   "outputs": [
    {
     "name": "stdout",
     "output_type": "stream",
     "text": [
      "Average Biology Credit Hours: 7.5\n"
     ]
    }
   ],
   "source": [
    "filename = 'students_dataset.csv'\n",
    "dept = 'Biology'\n",
    "avg_credit_hrs(dept, filename)"
   ]
  },
  {
   "cell_type": "code",
   "execution_count": 12,
   "metadata": {},
   "outputs": [
    {
     "name": "stdout",
     "output_type": "stream",
     "text": [
      "Average GPA of Bruce Wayne students: 3.03 \n",
      "\n",
      "First Name      Last Name      TA \n",
      "\n",
      "Glen            Robinson       No \n",
      "Rosa            Flowers        Yes\n",
      "Alvin           Jennings       Yes\n",
      "Brandi          Tran           Yes\n",
      "Hazel           Howard         No \n",
      "Isabel          Goodwin        No \n",
      "Roberto         Pope           Yes\n",
      "Roman           Cross          No \n",
      "Kurt            Doyle          No \n",
      "Cornelius       Campbell       Yes\n",
      "Clayton         Garcia         Yes\n"
     ]
    }
   ],
   "source": [
    "filename = 'students_dataset.csv'\n",
    "advisor = 'Bruce Wayne'\n",
    "advisor_student_info(advisor, filename)"
   ]
  },
  {
   "cell_type": "code",
   "execution_count": 13,
   "metadata": {},
   "outputs": [
    {
     "name": "stdout",
     "output_type": "stream",
     "text": [
      "Department          No. of students\n",
      "\n",
      "History               10\n",
      "Biology               16\n",
      "Computer Science      16\n",
      "Math                   5\n",
      "ECE                    3\n"
     ]
    }
   ],
   "source": [
    "filename = 'students_dataset.csv'\n",
    "total_students_in_depts(filename)"
   ]
  }
 ],
 "metadata": {
  "kernelspec": {
   "display_name": "Python (base)",
   "language": "python",
   "name": "base"
  },
  "language_info": {
   "codemirror_mode": {
    "name": "ipython",
    "version": 3
   },
   "file_extension": ".py",
   "mimetype": "text/x-python",
   "name": "python",
   "nbconvert_exporter": "python",
   "pygments_lexer": "ipython3",
   "version": "3.8.8"
  }
 },
 "nbformat": 4,
 "nbformat_minor": 4
}
