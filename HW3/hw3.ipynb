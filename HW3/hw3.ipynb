{
 "cells": [
  {
   "cell_type": "markdown",
   "metadata": {},
   "source": [
    "# HW3, CS103 Spring 2022\n",
    "# name: SHREYAS SRINIVASA\n",
    "# blazerid: SSRINIVA"
   ]
  },
  {
   "cell_type": "code",
   "execution_count": 1,
   "metadata": {},
   "outputs": [],
   "source": [
    "def myName():\n",
    "    return \"Shreyas Srinivasa\"\n",
    "def myBlazerID():\n",
    "    return \"SSRINIVA\""
   ]
  },
  {
   "cell_type": "code",
   "execution_count": 2,
   "metadata": {},
   "outputs": [
    {
     "name": "stdout",
     "output_type": "stream",
     "text": [
      "My Name is = Shreyas Srinivasa  and my BlazerId is = SSRINIVA\n"
     ]
    }
   ],
   "source": [
    "print(\"My Name is =\", myName(), \" and my BlazerId is =\",myBlazerID())"
   ]
  },
  {
   "cell_type": "code",
   "execution_count": 3,
   "metadata": {},
   "outputs": [],
   "source": [
    "def listBuilder(l1, length):\n",
    "    return [s for s in l1 if len(s) >= length]"
   ]
  },
  {
   "cell_type": "code",
   "execution_count": 4,
   "metadata": {},
   "outputs": [
    {
     "name": "stdout",
     "output_type": "stream",
     "text": [
      "['Hello', 'list']\n"
     ]
    }
   ],
   "source": [
    "l1 = [\"Hello\", \"I\", \"am\", \"a\", \"list\"]\n",
    "length = 4\n",
    "print(listBuilder(l1, length))"
   ]
  },
  {
   "cell_type": "code",
   "execution_count": 5,
   "metadata": {},
   "outputs": [
    {
     "name": "stdout",
     "output_type": "stream",
     "text": [
      "['Homework']\n"
     ]
    }
   ],
   "source": [
    "l1 = [\"Homework\", \"is\", \"fun\"]\n",
    "length = 8\n",
    "print(listBuilder(l1, length))"
   ]
  },
  {
   "cell_type": "code",
   "execution_count": 6,
   "metadata": {},
   "outputs": [
    {
     "name": "stdout",
     "output_type": "stream",
     "text": [
      "[]\n"
     ]
    }
   ],
   "source": [
    "l1 = [\"CS103\", \"is\", \"the\", \"best\"]\n",
    "length = 8\n",
    "print(listBuilder(l1, length))"
   ]
  },
  {
   "cell_type": "code",
   "execution_count": 7,
   "metadata": {},
   "outputs": [],
   "source": [
    "def lettersOnly(s):\n",
    "    return ''.join([x for x in s if x.isalpha()])"
   ]
  },
  {
   "cell_type": "code",
   "execution_count": 8,
   "metadata": {},
   "outputs": [
    {
     "name": "stdout",
     "output_type": "stream",
     "text": [
      "CSiskindoffun\n"
     ]
    }
   ],
   "source": [
    "s = \"CS103 is kind of fun.\"\n",
    "print(lettersOnly(s))"
   ]
  },
  {
   "cell_type": "code",
   "execution_count": 9,
   "metadata": {},
   "outputs": [
    {
     "name": "stdout",
     "output_type": "stream",
     "text": [
      "Spacesandpunctuationdontcount\n"
     ]
    }
   ],
   "source": [
    "s = \"Spaces and punctuation don’t count!\"\n",
    "print(lettersOnly(s))"
   ]
  },
  {
   "cell_type": "code",
   "execution_count": 10,
   "metadata": {},
   "outputs": [
    {
     "name": "stdout",
     "output_type": "stream",
     "text": [
      "ThisisHw\n"
     ]
    }
   ],
   "source": [
    "s = \"This is Hw3\"\n",
    "print(lettersOnly(s))"
   ]
  },
  {
   "cell_type": "code",
   "execution_count": 11,
   "metadata": {},
   "outputs": [],
   "source": [
    "def elementLengthIsIndex(l2):\n",
    "    return [s for i, s in enumerate(l2) if i == len(s)]"
   ]
  },
  {
   "cell_type": "code",
   "execution_count": 12,
   "metadata": {},
   "outputs": [
    {
     "name": "stdout",
     "output_type": "stream",
     "text": [
      "['a', 'one']\n"
     ]
    }
   ],
   "source": [
    "l2 = [\"I’m\", \"a\", \"tricky\", \"one\"]\n",
    "print(elementLengthIsIndex(l2))"
   ]
  },
  {
   "cell_type": "code",
   "execution_count": 13,
   "metadata": {},
   "outputs": [
    {
     "name": "stdout",
     "output_type": "stream",
     "text": [
      "['', 'red', 'blue']\n"
     ]
    }
   ],
   "source": [
    "l2 = [\"\", \"cyan\", \"gold\", \"red\", \"blue\"]\n",
    "print(elementLengthIsIndex(l2))"
   ]
  },
  {
   "cell_type": "code",
   "execution_count": 14,
   "metadata": {},
   "outputs": [
    {
     "name": "stdout",
     "output_type": "stream",
     "text": [
      "['1', '22', '333']\n"
     ]
    }
   ],
   "source": [
    "l2 = [\"0\", \"1\", \"22\", \"333\", \"4\"]\n",
    "print(elementLengthIsIndex(l2))"
   ]
  },
  {
   "cell_type": "code",
   "execution_count": 15,
   "metadata": {},
   "outputs": [],
   "source": [
    "def typeMatters(par):\n",
    "    if isinstance(par, str):\n",
    "        return par * len(par)\n",
    "    elif isinstance(par, int):\n",
    "        return ' '.join(map(str, (range(1, par + 1))))\n",
    "    elif isinstance(par, float):\n",
    "        return \"I am a float of value: {}\".format(par)\n",
    "    elif isinstance(par, list):\n",
    "        return sorted(par)[::-1]\n",
    "    else:\n",
    "        return \"I am not a string, int, float, or list.\""
   ]
  },
  {
   "cell_type": "code",
   "execution_count": 16,
   "metadata": {},
   "outputs": [
    {
     "name": "stdout",
     "output_type": "stream",
     "text": [
      "hellohellohellohellohello\n"
     ]
    }
   ],
   "source": [
    "par = \"hello\"\n",
    "print(typeMatters(par))"
   ]
  },
  {
   "cell_type": "code",
   "execution_count": 17,
   "metadata": {},
   "outputs": [
    {
     "name": "stdout",
     "output_type": "stream",
     "text": [
      "1 2 3 4 5 6 7 8\n"
     ]
    }
   ],
   "source": [
    "par = 8\n",
    "print(typeMatters(par))"
   ]
  },
  {
   "cell_type": "code",
   "execution_count": 18,
   "metadata": {},
   "outputs": [
    {
     "name": "stdout",
     "output_type": "stream",
     "text": [
      "I am a float of value: 5.634\n"
     ]
    }
   ],
   "source": [
    "par = 5.634\n",
    "print(typeMatters(par))"
   ]
  },
  {
   "cell_type": "code",
   "execution_count": 19,
   "metadata": {},
   "outputs": [
    {
     "name": "stdout",
     "output_type": "stream",
     "text": [
      "[42, 23, 16, 15, 8, 4]\n"
     ]
    }
   ],
   "source": [
    "par = [23, 8, 4, 16, 15, 42]\n",
    "print(typeMatters(par))"
   ]
  },
  {
   "cell_type": "code",
   "execution_count": 20,
   "metadata": {},
   "outputs": [
    {
     "name": "stdout",
     "output_type": "stream",
     "text": [
      "I am not a string, int, float, or list.\n"
     ]
    }
   ],
   "source": [
    "par = (3, 4)\n",
    "print(typeMatters(par))"
   ]
  },
  {
   "cell_type": "code",
   "execution_count": 21,
   "metadata": {},
   "outputs": [],
   "source": [
    "def reverseNum(n):\n",
    "    return(int(str(n)[::-1]))"
   ]
  },
  {
   "cell_type": "code",
   "execution_count": 22,
   "metadata": {},
   "outputs": [
    {
     "name": "stdout",
     "output_type": "stream",
     "text": [
      "4321\n"
     ]
    }
   ],
   "source": [
    "n = 1234\n",
    "print(reverseNum(n))"
   ]
  },
  {
   "cell_type": "code",
   "execution_count": 23,
   "metadata": {},
   "outputs": [
    {
     "name": "stdout",
     "output_type": "stream",
     "text": [
      "92\n"
     ]
    }
   ],
   "source": [
    "n = 29\n",
    "print(reverseNum(n))"
   ]
  },
  {
   "cell_type": "code",
   "execution_count": 24,
   "metadata": {},
   "outputs": [
    {
     "name": "stdout",
     "output_type": "stream",
     "text": [
      "10001\n"
     ]
    }
   ],
   "source": [
    "n = 10001\n",
    "print(reverseNum(n))"
   ]
  }
 ],
 "metadata": {
  "kernelspec": {
   "display_name": "Python (base)",
   "language": "python",
   "name": "base"
  },
  "language_info": {
   "codemirror_mode": {
    "name": "ipython",
    "version": 3
   },
   "file_extension": ".py",
   "mimetype": "text/x-python",
   "name": "python",
   "nbconvert_exporter": "python",
   "pygments_lexer": "ipython3",
   "version": "3.8.8"
  }
 },
 "nbformat": 4,
 "nbformat_minor": 4
}
